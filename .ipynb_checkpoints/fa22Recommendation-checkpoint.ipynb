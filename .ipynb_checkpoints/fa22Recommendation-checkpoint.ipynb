{
 "cells": [
  {
   "cell_type": "code",
   "execution_count": 1,
   "metadata": {
    "id": "b845Moxv2xZx"
   },
   "outputs": [],
   "source": [
    "import pandas as pd\n",
    "import numpy as np\n",
    "from tensorflow import keras\n",
    "import matplotlib.pyplot as plt\n",
    "\n",
    "#Run New_Data_Preprocessing once before using notebook\n",
    "df = pd.read_pickle(\"data/ratings.pkl\")\n",
    "df.set_axis(['user_id', 'movie_id', 'rating', 'timestamp'], axis=1, inplace=True)\n",
    "\n",
    "# Need to map movie ID to [1, num_movies]\n",
    "movie_id_to_new_id = dict()\n",
    "id = 1\n",
    "for index, row in df.iterrows():\n",
    "    if movie_id_to_new_id.get(row['movie_id']) is None:\n",
    "        movie_id_to_new_id[row['movie_id']] = id\n",
    "        df.at[index, 'movie_id'] = id\n",
    "        id += 1\n",
    "    else:\n",
    "        df.at[index, 'movie_id'] = movie_id_to_new_id.get(row['movie_id'])\n",
    "\n",
    "num_users = len(df.user_id.unique())\n",
    "num_movies = len(df.movie_id.unique())\n",
    "train, validate, test = np.split(df.sample(frac=1), [int(.8*len(df)), int(.9*len(df))])"
   ]
  },
  {
   "cell_type": "code",
   "execution_count": 2,
   "metadata": {
    "colab": {
     "base_uri": "https://localhost:8080/"
    },
    "id": "fFZGvpC1Diy1",
    "outputId": "79461f10-471d-4871-fbe6-9e462ab0bbaa"
   },
   "outputs": [
    {
     "name": "stdout",
     "output_type": "stream",
     "text": [
      "70691\n",
      "8836\n",
      "8837\n"
     ]
    }
   ],
   "source": [
    "print(len(train))\n",
    "print(len(validate))\n",
    "print(len(test))"
   ]
  },
  {
   "cell_type": "code",
   "execution_count": 3,
   "metadata": {
    "colab": {
     "base_uri": "https://localhost:8080/"
    },
    "id": "h8NSYIHw3Usd",
    "outputId": "5b2c0ff8-adb1-490a-d1cf-0234ae20a5cd"
   },
   "outputs": [
    {
     "data": {
      "text/plain": [
       "3268"
      ]
     },
     "execution_count": 3,
     "metadata": {},
     "output_type": "execute_result"
    }
   ],
   "source": [
    "num_movies"
   ]
  },
  {
   "cell_type": "code",
   "execution_count": 4,
   "metadata": {
    "colab": {
     "base_uri": "https://localhost:8080/"
    },
    "id": "CUV4Cua23jaU",
    "outputId": "f0f861fa-a45a-4b7e-ac60-8cf2f484ad34"
   },
   "outputs": [
    {
     "data": {
      "text/plain": [
       "610"
      ]
     },
     "execution_count": 4,
     "metadata": {},
     "output_type": "execute_result"
    }
   ],
   "source": [
    "num_users"
   ]
  },
  {
   "cell_type": "code",
   "execution_count": 5,
   "metadata": {
    "colab": {
     "base_uri": "https://localhost:8080/",
     "height": 424
    },
    "id": "CeEdYgkO4GWX",
    "outputId": "dbc20182-85fd-4ed7-cf22-4985db10fc4c"
   },
   "outputs": [
    {
     "data": {
      "text/html": [
       "<div>\n",
       "<style scoped>\n",
       "    .dataframe tbody tr th:only-of-type {\n",
       "        vertical-align: middle;\n",
       "    }\n",
       "\n",
       "    .dataframe tbody tr th {\n",
       "        vertical-align: top;\n",
       "    }\n",
       "\n",
       "    .dataframe thead th {\n",
       "        text-align: right;\n",
       "    }\n",
       "</style>\n",
       "<table border=\"1\" class=\"dataframe\">\n",
       "  <thead>\n",
       "    <tr style=\"text-align: right;\">\n",
       "      <th></th>\n",
       "      <th>user_id</th>\n",
       "      <th>movie_id</th>\n",
       "      <th>rating</th>\n",
       "      <th>timestamp</th>\n",
       "    </tr>\n",
       "  </thead>\n",
       "  <tbody>\n",
       "    <tr>\n",
       "      <th>0</th>\n",
       "      <td>1</td>\n",
       "      <td>1</td>\n",
       "      <td>4.0</td>\n",
       "      <td>964982703</td>\n",
       "    </tr>\n",
       "    <tr>\n",
       "      <th>1</th>\n",
       "      <td>1</td>\n",
       "      <td>2</td>\n",
       "      <td>4.0</td>\n",
       "      <td>964981247</td>\n",
       "    </tr>\n",
       "    <tr>\n",
       "      <th>2</th>\n",
       "      <td>1</td>\n",
       "      <td>3</td>\n",
       "      <td>4.0</td>\n",
       "      <td>964982224</td>\n",
       "    </tr>\n",
       "    <tr>\n",
       "      <th>3</th>\n",
       "      <td>1</td>\n",
       "      <td>4</td>\n",
       "      <td>5.0</td>\n",
       "      <td>964983815</td>\n",
       "    </tr>\n",
       "    <tr>\n",
       "      <th>4</th>\n",
       "      <td>1</td>\n",
       "      <td>5</td>\n",
       "      <td>5.0</td>\n",
       "      <td>964982931</td>\n",
       "    </tr>\n",
       "    <tr>\n",
       "      <th>...</th>\n",
       "      <td>...</td>\n",
       "      <td>...</td>\n",
       "      <td>...</td>\n",
       "      <td>...</td>\n",
       "    </tr>\n",
       "    <tr>\n",
       "      <th>100830</th>\n",
       "      <td>610</td>\n",
       "      <td>969</td>\n",
       "      <td>4.0</td>\n",
       "      <td>1493879365</td>\n",
       "    </tr>\n",
       "    <tr>\n",
       "      <th>100831</th>\n",
       "      <td>610</td>\n",
       "      <td>2389</td>\n",
       "      <td>4.0</td>\n",
       "      <td>1493848402</td>\n",
       "    </tr>\n",
       "    <tr>\n",
       "      <th>100832</th>\n",
       "      <td>610</td>\n",
       "      <td>1699</td>\n",
       "      <td>5.0</td>\n",
       "      <td>1493850091</td>\n",
       "    </tr>\n",
       "    <tr>\n",
       "      <th>100833</th>\n",
       "      <td>610</td>\n",
       "      <td>2390</td>\n",
       "      <td>5.0</td>\n",
       "      <td>1494273047</td>\n",
       "    </tr>\n",
       "    <tr>\n",
       "      <th>100834</th>\n",
       "      <td>610</td>\n",
       "      <td>1220</td>\n",
       "      <td>5.0</td>\n",
       "      <td>1493846352</td>\n",
       "    </tr>\n",
       "  </tbody>\n",
       "</table>\n",
       "<p>88364 rows × 4 columns</p>\n",
       "</div>"
      ],
      "text/plain": [
       "        user_id  movie_id  rating   timestamp\n",
       "0             1         1     4.0   964982703\n",
       "1             1         2     4.0   964981247\n",
       "2             1         3     4.0   964982224\n",
       "3             1         4     5.0   964983815\n",
       "4             1         5     5.0   964982931\n",
       "...         ...       ...     ...         ...\n",
       "100830      610       969     4.0  1493879365\n",
       "100831      610      2389     4.0  1493848402\n",
       "100832      610      1699     5.0  1493850091\n",
       "100833      610      2390     5.0  1494273047\n",
       "100834      610      1220     5.0  1493846352\n",
       "\n",
       "[88364 rows x 4 columns]"
      ]
     },
     "execution_count": 5,
     "metadata": {},
     "output_type": "execute_result"
    }
   ],
   "source": [
    "df"
   ]
  },
  {
   "cell_type": "code",
   "execution_count": 6,
   "metadata": {
    "id": "wPGldpgq4RX4"
   },
   "outputs": [
    {
     "name": "stderr",
     "output_type": "stream",
     "text": [
      "2022-11-12 20:35:16.711497: I tensorflow/core/platform/cpu_feature_guard.cc:193] This TensorFlow binary is optimized with oneAPI Deep Neural Network Library (oneDNN) to use the following CPU instructions in performance-critical operations:  SSE4.1 SSE4.2\n",
      "To enable them in other operations, rebuild TensorFlow with the appropriate compiler flags.\n"
     ]
    }
   ],
   "source": [
    "from keras.models import Model\n",
    "from keras.layers import Embedding, Flatten, Input, Dot, Dropout, Dense\n",
    "from keras.optimizers import Adam\n",
    "\n",
    "latent_dim = 4\n",
    "\n",
    "movie_input = Input(shape=[1],name='movie-input')\n",
    "movie_embedding = Embedding(num_movies + 1, latent_dim, name='movie-embedding')(movie_input)\n",
    "movie_vec = Flatten(name='movie-flatten')(movie_embedding)\n",
    "\n",
    "user_input = Input(shape=[1],name='user-input')\n",
    "user_embedding = Embedding(num_users + 1, latent_dim, name='user-embedding')(user_input)\n",
    "user_vec = Flatten(name='user-flatten')(user_embedding)\n",
    "\n",
    "concat = Dot(axes=1, name='movie-user-concat')([movie_vec, user_vec])\n",
    "concat_dropout = Dropout(0.2)(concat)\n",
    "fc_1 = Dense(32, name='fc-1', activation='relu',  kernel_regularizer=\"l2\")(concat)\n",
    "fc_1_dropout = Dropout(0.2, name='fc-1-dropout')(fc_1)\n",
    "fc_2 = Dense(32, name='fc-2', activation='relu')(fc_1_dropout)\n",
    "fc_2_dropout = Dropout(0.2, name='fc-2-dropout')(fc_2)\n",
    "out = Dense(1, name='out', activation='relu')(fc_2_dropout)\n",
    "\n",
    "\n",
    "model = Model([user_input, movie_input], out)\n",
    "model.compile(optimizer=Adam(learning_rate=0.0002), loss='mean_squared_error')"
   ]
  },
  {
   "cell_type": "code",
   "execution_count": 7,
   "metadata": {
    "colab": {
     "base_uri": "https://localhost:8080/"
    },
    "id": "Z-bBj8P15G1o",
    "outputId": "81d2389b-e804-44d7-b57e-e594c6e2d951"
   },
   "outputs": [
    {
     "name": "stdout",
     "output_type": "stream",
     "text": [
      "Model: \"model\"\n",
      "__________________________________________________________________________________________________\n",
      " Layer (type)                   Output Shape         Param #     Connected to                     \n",
      "==================================================================================================\n",
      " movie-input (InputLayer)       [(None, 1)]          0           []                               \n",
      "                                                                                                  \n",
      " user-input (InputLayer)        [(None, 1)]          0           []                               \n",
      "                                                                                                  \n",
      " movie-embedding (Embedding)    (None, 1, 4)         13076       ['movie-input[0][0]']            \n",
      "                                                                                                  \n",
      " user-embedding (Embedding)     (None, 1, 4)         2444        ['user-input[0][0]']             \n",
      "                                                                                                  \n",
      " movie-flatten (Flatten)        (None, 4)            0           ['movie-embedding[0][0]']        \n",
      "                                                                                                  \n",
      " user-flatten (Flatten)         (None, 4)            0           ['user-embedding[0][0]']         \n",
      "                                                                                                  \n",
      " movie-user-concat (Dot)        (None, 1)            0           ['movie-flatten[0][0]',          \n",
      "                                                                  'user-flatten[0][0]']           \n",
      "                                                                                                  \n",
      " fc-1 (Dense)                   (None, 32)           64          ['movie-user-concat[0][0]']      \n",
      "                                                                                                  \n",
      " fc-1-dropout (Dropout)         (None, 32)           0           ['fc-1[0][0]']                   \n",
      "                                                                                                  \n",
      " fc-2 (Dense)                   (None, 32)           1056        ['fc-1-dropout[0][0]']           \n",
      "                                                                                                  \n",
      " fc-2-dropout (Dropout)         (None, 32)           0           ['fc-2[0][0]']                   \n",
      "                                                                                                  \n",
      " out (Dense)                    (None, 1)            33          ['fc-2-dropout[0][0]']           \n",
      "                                                                                                  \n",
      "==================================================================================================\n",
      "Total params: 16,673\n",
      "Trainable params: 16,673\n",
      "Non-trainable params: 0\n",
      "__________________________________________________________________________________________________\n"
     ]
    }
   ],
   "source": [
    "model.summary()"
   ]
  },
  {
   "cell_type": "code",
   "execution_count": 8,
   "metadata": {
    "colab": {
     "base_uri": "https://localhost:8080/",
     "height": 672
    },
    "id": "WNZkTpz28RUa",
    "outputId": "1a55e17d-5c97-4196-9892-228389f89c58",
    "scrolled": true
   },
   "outputs": [
    {
     "name": "stdout",
     "output_type": "stream",
     "text": [
      "Epoch 1/40\n",
      "2210/2210 [==============================] - 2s 803us/step - loss: 3.1470 - val_loss: 1.0602\n",
      "Epoch 2/40\n",
      "2210/2210 [==============================] - 2s 760us/step - loss: 1.3250 - val_loss: 1.0581\n",
      "Epoch 3/40\n",
      "2210/2210 [==============================] - 2s 764us/step - loss: 1.2526 - val_loss: 1.0464\n",
      "Epoch 4/40\n",
      "2210/2210 [==============================] - 2s 754us/step - loss: 1.1741 - val_loss: 0.9974\n",
      "Epoch 5/40\n",
      "2210/2210 [==============================] - 2s 755us/step - loss: 1.0445 - val_loss: 0.9296\n",
      "Epoch 6/40\n",
      "2210/2210 [==============================] - 2s 755us/step - loss: 0.9622 - val_loss: 0.8880\n",
      "Epoch 7/40\n",
      "2210/2210 [==============================] - 2s 759us/step - loss: 0.9089 - val_loss: 0.8602\n",
      "Epoch 8/40\n",
      "2210/2210 [==============================] - 2s 759us/step - loss: 0.8705 - val_loss: 0.8396\n",
      "Epoch 9/40\n",
      "2210/2210 [==============================] - 2s 761us/step - loss: 0.8340 - val_loss: 0.8237\n",
      "Epoch 10/40\n",
      "2210/2210 [==============================] - 2s 758us/step - loss: 0.8039 - val_loss: 0.8176\n",
      "Epoch 11/40\n",
      "2210/2210 [==============================] - 2s 757us/step - loss: 0.7811 - val_loss: 0.8027\n",
      "Epoch 12/40\n",
      "2210/2210 [==============================] - 2s 752us/step - loss: 0.7593 - val_loss: 0.7953\n",
      "Epoch 13/40\n",
      "2210/2210 [==============================] - 2s 750us/step - loss: 0.7441 - val_loss: 0.7893\n",
      "Epoch 14/40\n",
      "2210/2210 [==============================] - 2s 747us/step - loss: 0.7267 - val_loss: 0.7859\n",
      "Epoch 15/40\n",
      "2210/2210 [==============================] - 2s 752us/step - loss: 0.7155 - val_loss: 0.7851\n",
      "Epoch 16/40\n",
      "2210/2210 [==============================] - 2s 746us/step - loss: 0.7017 - val_loss: 0.7809\n",
      "Epoch 17/40\n",
      "2210/2210 [==============================] - 2s 748us/step - loss: 0.6938 - val_loss: 0.7817\n",
      "Epoch 18/40\n",
      "2210/2210 [==============================] - 2s 747us/step - loss: 0.6850 - val_loss: 0.7843\n",
      "Epoch 19/40\n",
      "2210/2210 [==============================] - 2s 747us/step - loss: 0.6771 - val_loss: 0.7786\n",
      "Epoch 20/40\n",
      "2210/2210 [==============================] - 2s 747us/step - loss: 0.6688 - val_loss: 0.7780\n",
      "Epoch 21/40\n",
      "2210/2210 [==============================] - 2s 752us/step - loss: 0.6615 - val_loss: 0.7807\n",
      "Epoch 22/40\n",
      "2210/2210 [==============================] - 2s 747us/step - loss: 0.6542 - val_loss: 0.7804\n",
      "Epoch 23/40\n",
      "2210/2210 [==============================] - 2s 754us/step - loss: 0.6448 - val_loss: 0.7816\n",
      "Epoch 24/40\n",
      "2210/2210 [==============================] - 2s 751us/step - loss: 0.6448 - val_loss: 0.7791\n",
      "Epoch 25/40\n",
      "2210/2210 [==============================] - 2s 758us/step - loss: 0.6373 - val_loss: 0.7811\n",
      "Epoch 26/40\n",
      "2210/2210 [==============================] - 2s 756us/step - loss: 0.6312 - val_loss: 0.7813\n",
      "Epoch 27/40\n",
      "2210/2210 [==============================] - 2s 753us/step - loss: 0.6269 - val_loss: 0.7848\n",
      "Epoch 28/40\n",
      "2210/2210 [==============================] - 2s 756us/step - loss: 0.6240 - val_loss: 0.7840\n",
      "Epoch 29/40\n",
      "2210/2210 [==============================] - 2s 763us/step - loss: 0.6201 - val_loss: 0.7818\n",
      "Epoch 30/40\n",
      "2210/2210 [==============================] - 2s 764us/step - loss: 0.6172 - val_loss: 0.7854\n",
      "Epoch 31/40\n",
      "2210/2210 [==============================] - 2s 763us/step - loss: 0.6142 - val_loss: 0.7835\n",
      "Epoch 32/40\n",
      "2210/2210 [==============================] - 2s 765us/step - loss: 0.6094 - val_loss: 0.7862\n",
      "Epoch 33/40\n",
      "2210/2210 [==============================] - 2s 766us/step - loss: 0.6051 - val_loss: 0.7878\n",
      "Epoch 34/40\n",
      "2210/2210 [==============================] - 2s 766us/step - loss: 0.6040 - val_loss: 0.7878\n",
      "Epoch 35/40\n",
      "2210/2210 [==============================] - 2s 770us/step - loss: 0.5988 - val_loss: 0.7871\n",
      "Epoch 36/40\n",
      "2210/2210 [==============================] - 2s 763us/step - loss: 0.5996 - val_loss: 0.7908\n",
      "Epoch 37/40\n",
      "2210/2210 [==============================] - 2s 766us/step - loss: 0.5979 - val_loss: 0.7901\n",
      "Epoch 38/40\n",
      "2210/2210 [==============================] - 2s 769us/step - loss: 0.5945 - val_loss: 0.7913\n",
      "Epoch 39/40\n",
      "2210/2210 [==============================] - 2s 766us/step - loss: 0.5940 - val_loss: 0.7921\n",
      "Epoch 40/40\n",
      "2210/2210 [==============================] - 2s 771us/step - loss: 0.5925 - val_loss: 0.7901\n"
     ]
    }
   ],
   "source": [
    "from sklearn.metrics import mean_absolute_error\n",
    "history = model.fit(\n",
    "    x=[train.user_id, train.movie_id], \n",
    "    y=train.rating, \n",
    "    epochs=40, \n",
    "    batch_size=32,\n",
    "    validation_data=([validate.user_id, validate.movie_id], validate.rating)\n",
    ")"
   ]
  },
  {
   "cell_type": "code",
   "execution_count": 9,
   "metadata": {
    "id": "8WW3l_KIHWv3"
   },
   "outputs": [
    {
     "data": {
      "image/png": "[encoded data removed]",
      "text/plain": [
       "<Figure size 640x480 with 1 Axes>"
      ]
     },
     "metadata": {},
     "output_type": "display_data"
    },
    {
     "name": "stdout",
     "output_type": "stream",
     "text": [
      "277/277 [==============================] - 0s 459us/step\n"
     ]
    },
    {
     "data": {
      "text/plain": [
       "0.693460450232319"
      ]
     },
     "execution_count": 9,
     "metadata": {},
     "output_type": "execute_result"
    }
   ],
   "source": [
    "pd.Series(history.history['loss']).plot(label=\"Training Set\")\n",
    "pd.Series(history.history['val_loss']).plot(label=\"Validation Set\")\n",
    "plt.xlabel(\"Epoch\")\n",
    "plt.ylabel(\"Error\")\n",
    "plt.legend()\n",
    "plt.show()\n",
    "\n",
    "y_hat = np.round(model.predict([test.user_id, test.movie_id]), decimals=2)\n",
    "y_true = test.rating\n",
    "mean_absolute_error(y_true, y_hat)"
   ]
  },
  {
   "cell_type": "code",
   "execution_count": 10,
   "metadata": {},
   "outputs": [
    {
     "data": {
      "text/plain": [
       "('rmse', 0.9009761670699452)"
      ]
     },
     "execution_count": 10,
     "metadata": {},
     "output_type": "execute_result"
    }
   ],
   "source": [
    "import evaluation\n",
    "\"mae\", evaluation.mean_absolute_error(y_true, y_hat)\n",
    "\"rmse\", evaluation.root_mean_squared_error(y_true, y_hat)"
   ]
  },
  {
   "cell_type": "code",
   "execution_count": 11,
   "metadata": {},
   "outputs": [],
   "source": [
    "movies = pd.read_csv(\"./data/movies.csv\")\n",
    "\n",
    "def getUserTopMovies(user_id: int) -> pd.DataFrame:\n",
    "    movie_ids = test.movie_id.unique()\n",
    "    predictions = model.predict([np.array([user_id] * len(movie_ids)), movie_ids])\n",
    "    combined = pd.DataFrame({'movie_id': movie_ids, 'predicted_rating': [_[0] for _ in predictions]})\n",
    "    #sort ratings descending\n",
    "    combined = combined.sort_values(by=\"predicted_rating\", ascending=False)\n",
    "    #append movie titles to DataFrame\n",
    "    combined = combined.set_index('movie_id').join(movies.set_index('movieId')).drop(columns = [\"genres\"])\n",
    "    #drop null entries\n",
    "    combined = combined.dropna()\n",
    "    #make movie_id a column\n",
    "    return combined.reset_index(level=0)\n"
   ]
  },
  {
   "cell_type": "code",
   "execution_count": 12,
   "metadata": {},
   "outputs": [
    {
     "name": "stdout",
     "output_type": "stream",
     "text": [
      "79/79 [==============================] - 0s 569us/step\n"
     ]
    },
    {
     "data": {
      "text/html": [
       "<div>\n",
       "<style scoped>\n",
       "    .dataframe tbody tr th:only-of-type {\n",
       "        vertical-align: middle;\n",
       "    }\n",
       "\n",
       "    .dataframe tbody tr th {\n",
       "        vertical-align: top;\n",
       "    }\n",
       "\n",
       "    .dataframe thead th {\n",
       "        text-align: right;\n",
       "    }\n",
       "</style>\n",
       "<table border=\"1\" class=\"dataframe\">\n",
       "  <thead>\n",
       "    <tr style=\"text-align: right;\">\n",
       "      <th></th>\n",
       "      <th>user_id</th>\n",
       "      <th>movie_id</th>\n",
       "      <th>rating</th>\n",
       "      <th>timestamp</th>\n",
       "    </tr>\n",
       "  </thead>\n",
       "  <tbody>\n",
       "  </tbody>\n",
       "</table>\n",
       "</div>"
      ],
      "text/plain": [
       "Empty DataFrame\n",
       "Columns: [user_id, movie_id, rating, timestamp]\n",
       "Index: []"
      ]
     },
     "execution_count": 12,
     "metadata": {},
     "output_type": "execute_result"
    }
   ],
   "source": [
    "topMovies = getUserTopMovies(111)\n",
    "topMovies.loc[topMovies.movie_id == 1956]\n",
    "test.loc[(test.movie_id == 1956) & (test.user_id == 111)]"
   ]
  },
  {
   "cell_type": "code",
   "execution_count": 13,
   "metadata": {},
   "outputs": [
    {
     "name": "stdout",
     "output_type": "stream",
     "text": [
      "79/79 [==============================] - 0s 557us/step\n"
     ]
    },
    {
     "data": {
      "text/html": [
       "<div>\n",
       "<style scoped>\n",
       "    .dataframe tbody tr th:only-of-type {\n",
       "        vertical-align: middle;\n",
       "    }\n",
       "\n",
       "    .dataframe tbody tr th {\n",
       "        vertical-align: top;\n",
       "    }\n",
       "\n",
       "    .dataframe thead th {\n",
       "        text-align: right;\n",
       "    }\n",
       "</style>\n",
       "<table border=\"1\" class=\"dataframe\">\n",
       "  <thead>\n",
       "    <tr style=\"text-align: right;\">\n",
       "      <th></th>\n",
       "      <th>user_id</th>\n",
       "      <th>movie_id</th>\n",
       "      <th>rating</th>\n",
       "      <th>timestamp</th>\n",
       "    </tr>\n",
       "  </thead>\n",
       "  <tbody>\n",
       "  </tbody>\n",
       "</table>\n",
       "</div>"
      ],
      "text/plain": [
       "Empty DataFrame\n",
       "Columns: [user_id, movie_id, rating, timestamp]\n",
       "Index: []"
      ]
     },
     "execution_count": 13,
     "metadata": {},
     "output_type": "execute_result"
    }
   ],
   "source": [
    "topMovies = getUserTopMovies(564)\n",
    "topMovies.loc[topMovies.movie_id == 1956]\n",
    "validate.loc[(validate.movie_id == 1956) & (validate.user_id == 564)]"
   ]
  },
  {
   "cell_type": "raw",
   "metadata": {},
   "source": [
    "topMovies = getUserTopMovies(21)\n",
    "topMovies.loc[topMovies.movie_id == 1956]\n",
    "train.loc[(train.movie_id == 1956) & (train.user_id == 21)]"
   ]
  }
 ],
 "metadata": {
  "colab": {
   "collapsed_sections": [],
   "provenance": []
  },
  "kernelspec": {
   "display_name": "Python 3 (ipykernel)",
   "language": "python",
   "name": "python3"
  },
  "language_info": {
   "codemirror_mode": {
    "name": "ipython",
    "version": 3
   },
   "file_extension": ".py",
   "mimetype": "text/x-python",
   "name": "python",
   "nbconvert_exporter": "python",
   "pygments_lexer": "ipython3",
   "version": "3.10.6"
  },
  "vscode": {
   "interpreter": {
    "hash": "a665b5d41d17b532ea9890333293a1b812fa0b73c9c25c950b3cedf1bebd0438"
   }
  }
 },
 "nbformat": 4,
 "nbformat_minor": 1
}
