{
 "cells": [
  {
   "cell_type": "code",
   "execution_count": 1,
   "metadata": {
    "id": "b845Moxv2xZx"
   },
   "outputs": [],
   "source": [
    "import pandas as pd\n",
    "import numpy as np\n",
    "from tensorflow import keras\n",
    "import matplotlib.pyplot as plt\n",
    "\n",
    "df = pd.read_pickle(\"data/ratings.pkl\")\n",
    "df.set_axis(['user_id', 'movie_id', 'rating', 'timestamp'], axis=1, inplace=True)\n",
    "\n",
    "# Need to map movie ID to [1, num_movies]\n",
    "movie_id_to_new_id = dict()\n",
    "id = 1\n",
    "for index, row in df.iterrows():\n",
    "    if movie_id_to_new_id.get(row['movie_id']) is None:\n",
    "        movie_id_to_new_id[row['movie_id']] = id\n",
    "        df.at[index, 'movie_id'] = id\n",
    "        id += 1\n",
    "    else:\n",
    "        df.at[index, 'movie_id'] = movie_id_to_new_id.get(row['movie_id'])\n",
    "\n",
    "num_users = len(df.user_id.unique())\n",
    "num_movies = len(df.movie_id.unique())\n",
    "train, validate, test = np.split(df.sample(frac=1), [int(.8*len(df)), int(.9*len(df))])"
   ]
  },
  {
   "cell_type": "code",
   "execution_count": 2,
   "metadata": {
    "colab": {
     "base_uri": "https://localhost:8080/"
    },
    "id": "fFZGvpC1Diy1",
    "outputId": "79461f10-471d-4871-fbe6-9e462ab0bbaa"
   },
   "outputs": [
    {
     "name": "stdout",
     "output_type": "stream",
     "text": [
      "54318\n",
      "6790\n",
      "6790\n"
     ]
    }
   ],
   "source": [
    "print(len(train))\n",
    "print(len(validate))\n",
    "print(len(test))"
   ]
  },
  {
   "cell_type": "code",
   "execution_count": 3,
   "metadata": {
    "colab": {
     "base_uri": "https://localhost:8080/"
    },
    "id": "h8NSYIHw3Usd",
    "outputId": "5b2c0ff8-adb1-490a-d1cf-0234ae20a5cd"
   },
   "outputs": [
    {
     "data": {
      "text/plain": [
       "1297"
      ]
     },
     "execution_count": 3,
     "metadata": {},
     "output_type": "execute_result"
    }
   ],
   "source": [
    "num_movies"
   ]
  },
  {
   "cell_type": "code",
   "execution_count": 4,
   "metadata": {
    "colab": {
     "base_uri": "https://localhost:8080/"
    },
    "id": "CUV4Cua23jaU",
    "outputId": "f0f861fa-a45a-4b7e-ac60-8cf2f484ad34"
   },
   "outputs": [
    {
     "data": {
      "text/plain": [
       "610"
      ]
     },
     "execution_count": 4,
     "metadata": {},
     "output_type": "execute_result"
    }
   ],
   "source": [
    "num_users"
   ]
  },
  {
   "cell_type": "code",
   "execution_count": 5,
   "metadata": {
    "colab": {
     "base_uri": "https://localhost:8080/",
     "height": 424
    },
    "id": "CeEdYgkO4GWX",
    "outputId": "dbc20182-85fd-4ed7-cf22-4985db10fc4c"
   },
   "outputs": [
    {
     "data": {
      "text/html": [
       "<div>\n",
       "<style scoped>\n",
       "    .dataframe tbody tr th:only-of-type {\n",
       "        vertical-align: middle;\n",
       "    }\n",
       "\n",
       "    .dataframe tbody tr th {\n",
       "        vertical-align: top;\n",
       "    }\n",
       "\n",
       "    .dataframe thead th {\n",
       "        text-align: right;\n",
       "    }\n",
       "</style>\n",
       "<table border=\"1\" class=\"dataframe\">\n",
       "  <thead>\n",
       "    <tr style=\"text-align: right;\">\n",
       "      <th></th>\n",
       "      <th>user_id</th>\n",
       "      <th>movie_id</th>\n",
       "      <th>rating</th>\n",
       "      <th>timestamp</th>\n",
       "    </tr>\n",
       "  </thead>\n",
       "  <tbody>\n",
       "    <tr>\n",
       "      <th>0</th>\n",
       "      <td>1</td>\n",
       "      <td>1</td>\n",
       "      <td>4.0</td>\n",
       "      <td>964982703</td>\n",
       "    </tr>\n",
       "    <tr>\n",
       "      <th>1</th>\n",
       "      <td>1</td>\n",
       "      <td>2</td>\n",
       "      <td>4.0</td>\n",
       "      <td>964981247</td>\n",
       "    </tr>\n",
       "    <tr>\n",
       "      <th>2</th>\n",
       "      <td>1</td>\n",
       "      <td>3</td>\n",
       "      <td>4.0</td>\n",
       "      <td>964982224</td>\n",
       "    </tr>\n",
       "    <tr>\n",
       "      <th>3</th>\n",
       "      <td>1</td>\n",
       "      <td>4</td>\n",
       "      <td>5.0</td>\n",
       "      <td>964983815</td>\n",
       "    </tr>\n",
       "    <tr>\n",
       "      <th>4</th>\n",
       "      <td>1</td>\n",
       "      <td>5</td>\n",
       "      <td>5.0</td>\n",
       "      <td>964982931</td>\n",
       "    </tr>\n",
       "    <tr>\n",
       "      <th>...</th>\n",
       "      <td>...</td>\n",
       "      <td>...</td>\n",
       "      <td>...</td>\n",
       "      <td>...</td>\n",
       "    </tr>\n",
       "    <tr>\n",
       "      <th>100803</th>\n",
       "      <td>610</td>\n",
       "      <td>824</td>\n",
       "      <td>4.0</td>\n",
       "      <td>1493847175</td>\n",
       "    </tr>\n",
       "    <tr>\n",
       "      <th>100808</th>\n",
       "      <td>610</td>\n",
       "      <td>653</td>\n",
       "      <td>4.0</td>\n",
       "      <td>1493846503</td>\n",
       "    </tr>\n",
       "    <tr>\n",
       "      <th>100829</th>\n",
       "      <td>610</td>\n",
       "      <td>825</td>\n",
       "      <td>5.0</td>\n",
       "      <td>1493845631</td>\n",
       "    </tr>\n",
       "    <tr>\n",
       "      <th>100830</th>\n",
       "      <td>610</td>\n",
       "      <td>654</td>\n",
       "      <td>4.0</td>\n",
       "      <td>1493879365</td>\n",
       "    </tr>\n",
       "    <tr>\n",
       "      <th>100834</th>\n",
       "      <td>610</td>\n",
       "      <td>826</td>\n",
       "      <td>5.0</td>\n",
       "      <td>1493846352</td>\n",
       "    </tr>\n",
       "  </tbody>\n",
       "</table>\n",
       "<p>67898 rows × 4 columns</p>\n",
       "</div>"
      ],
      "text/plain": [
       "        user_id  movie_id  rating   timestamp\n",
       "0             1         1     4.0   964982703\n",
       "1             1         2     4.0   964981247\n",
       "2             1         3     4.0   964982224\n",
       "3             1         4     5.0   964983815\n",
       "4             1         5     5.0   964982931\n",
       "...         ...       ...     ...         ...\n",
       "100803      610       824     4.0  1493847175\n",
       "100808      610       653     4.0  1493846503\n",
       "100829      610       825     5.0  1493845631\n",
       "100830      610       654     4.0  1493879365\n",
       "100834      610       826     5.0  1493846352\n",
       "\n",
       "[67898 rows x 4 columns]"
      ]
     },
     "execution_count": 5,
     "metadata": {},
     "output_type": "execute_result"
    }
   ],
   "source": [
    "df"
   ]
  },
  {
   "cell_type": "code",
   "execution_count": 6,
   "metadata": {
    "id": "wPGldpgq4RX4"
   },
   "outputs": [
    {
     "name": "stderr",
     "output_type": "stream",
     "text": [
      "2022-11-11 11:44:17.222220: I tensorflow/core/platform/cpu_feature_guard.cc:193] This TensorFlow binary is optimized with oneAPI Deep Neural Network Library (oneDNN) to use the following CPU instructions in performance-critical operations:  SSE4.1 SSE4.2\n",
      "To enable them in other operations, rebuild TensorFlow with the appropriate compiler flags.\n"
     ]
    }
   ],
   "source": [
    "from keras.models import Model\n",
    "from keras.layers import Embedding, Flatten, Input, Dot, Dropout, Dense\n",
    "from keras.optimizers import Adam\n",
    "\n",
    "latent_dim = 10\n",
    "\n",
    "movie_input = Input(shape=[1],name='movie-input')\n",
    "movie_embedding = Embedding(num_movies + 1, latent_dim, name='movie-embedding')(movie_input)\n",
    "movie_vec = Flatten(name='movie-flatten')(movie_embedding)\n",
    "\n",
    "user_input = Input(shape=[1],name='user-input')\n",
    "user_embedding = Embedding(num_users + 1, latent_dim, name='user-embedding')(user_input)\n",
    "user_vec = Flatten(name='user-flatten')(user_embedding)\n",
    "\n",
    "concat = Dot(axes=1, name='movie-user-concat')([movie_vec, user_vec])\n",
    "concat_dropout = Dropout(0.2)(concat)\n",
    "fc_1 = Dense(128, name='fc-1', activation='relu',  kernel_regularizer=\"l2\")(concat)\n",
    "fc_1_dropout = Dropout(0.2, name='fc-1-dropout')(fc_1)\n",
    "fc_2 = Dense(64, name='fc-2', activation='relu')(fc_1_dropout)\n",
    "fc_2_dropout = Dropout(0.2, name='fc-2-dropout')(fc_2)\n",
    "fc_3 = Dense(1, name='fc-3', activation='relu')(fc_2_dropout)\n",
    "\n",
    "\n",
    "model = Model([user_input, movie_input], fc_3)\n",
    "model.compile(optimizer=Adam(learning_rate=0.001), loss='mean_squared_error')"
   ]
  },
  {
   "cell_type": "code",
   "execution_count": 7,
   "metadata": {
    "colab": {
     "base_uri": "https://localhost:8080/"
    },
    "id": "Z-bBj8P15G1o",
    "outputId": "81d2389b-e804-44d7-b57e-e594c6e2d951"
   },
   "outputs": [
    {
     "name": "stdout",
     "output_type": "stream",
     "text": [
      "Model: \"model\"\n",
      "__________________________________________________________________________________________________\n",
      " Layer (type)                   Output Shape         Param #     Connected to                     \n",
      "==================================================================================================\n",
      " movie-input (InputLayer)       [(None, 1)]          0           []                               \n",
      "                                                                                                  \n",
      " user-input (InputLayer)        [(None, 1)]          0           []                               \n",
      "                                                                                                  \n",
      " movie-embedding (Embedding)    (None, 1, 10)        12980       ['movie-input[0][0]']            \n",
      "                                                                                                  \n",
      " user-embedding (Embedding)     (None, 1, 10)        6110        ['user-input[0][0]']             \n",
      "                                                                                                  \n",
      " movie-flatten (Flatten)        (None, 10)           0           ['movie-embedding[0][0]']        \n",
      "                                                                                                  \n",
      " user-flatten (Flatten)         (None, 10)           0           ['user-embedding[0][0]']         \n",
      "                                                                                                  \n",
      " movie-user-concat (Dot)        (None, 1)            0           ['movie-flatten[0][0]',          \n",
      "                                                                  'user-flatten[0][0]']           \n",
      "                                                                                                  \n",
      " fc-1 (Dense)                   (None, 128)          256         ['movie-user-concat[0][0]']      \n",
      "                                                                                                  \n",
      " fc-1-dropout (Dropout)         (None, 128)          0           ['fc-1[0][0]']                   \n",
      "                                                                                                  \n",
      " fc-2 (Dense)                   (None, 64)           8256        ['fc-1-dropout[0][0]']           \n",
      "                                                                                                  \n",
      " fc-2-dropout (Dropout)         (None, 64)           0           ['fc-2[0][0]']                   \n",
      "                                                                                                  \n",
      " fc-3 (Dense)                   (None, 1)            65          ['fc-2-dropout[0][0]']           \n",
      "                                                                                                  \n",
      "==================================================================================================\n",
      "Total params: 27,667\n",
      "Trainable params: 27,667\n",
      "Non-trainable params: 0\n",
      "__________________________________________________________________________________________________\n"
     ]
    }
   ],
   "source": [
    "model.summary()"
   ]
  },
  {
   "cell_type": "code",
   "execution_count": 8,
   "metadata": {
    "colab": {
     "base_uri": "https://localhost:8080/",
     "height": 672
    },
    "id": "WNZkTpz28RUa",
    "outputId": "1a55e17d-5c97-4196-9892-228389f89c58"
   },
   "outputs": [
    {
     "name": "stdout",
     "output_type": "stream",
     "text": [
      "Epoch 1/50\n",
      "425/425 [==============================] - 1s 1ms/step - loss: 2.3437 - val_loss: 1.0031\n",
      "Epoch 2/50\n",
      "425/425 [==============================] - 0s 1ms/step - loss: 1.0530 - val_loss: 0.8227\n",
      "Epoch 3/50\n",
      "425/425 [==============================] - 0s 1ms/step - loss: 0.8202 - val_loss: 0.7749\n",
      "Epoch 4/50\n",
      "425/425 [==============================] - 0s 1ms/step - loss: 0.7232 - val_loss: 0.7827\n",
      "Epoch 5/50\n",
      "425/425 [==============================] - 0s 1ms/step - loss: 0.6630 - val_loss: 0.7815\n",
      "Epoch 6/50\n",
      "425/425 [==============================] - 0s 1ms/step - loss: 0.6225 - val_loss: 0.7907\n",
      "Epoch 7/50\n",
      "425/425 [==============================] - 0s 1ms/step - loss: 0.5935 - val_loss: 0.7977\n",
      "Epoch 8/50\n",
      "425/425 [==============================] - 0s 1ms/step - loss: 0.5718 - val_loss: 0.8022\n",
      "Epoch 9/50\n",
      "425/425 [==============================] - 0s 1ms/step - loss: 0.5543 - val_loss: 0.8135\n",
      "Epoch 10/50\n",
      "425/425 [==============================] - 0s 1ms/step - loss: 0.5366 - val_loss: 0.8209\n",
      "Epoch 11/50\n",
      "425/425 [==============================] - 0s 1ms/step - loss: 0.5224 - val_loss: 0.8330\n",
      "Epoch 12/50\n",
      "425/425 [==============================] - 0s 1ms/step - loss: 0.5154 - val_loss: 0.8257\n",
      "Epoch 13/50\n",
      "425/425 [==============================] - 0s 1ms/step - loss: 0.5034 - val_loss: 0.8528\n",
      "Epoch 14/50\n",
      "425/425 [==============================] - 0s 1ms/step - loss: 0.4969 - val_loss: 0.8550\n",
      "Epoch 15/50\n",
      "425/425 [==============================] - 0s 1ms/step - loss: 0.4821 - val_loss: 0.8684\n",
      "Epoch 16/50\n",
      "425/425 [==============================] - 0s 1ms/step - loss: 0.4744 - val_loss: 0.8834\n",
      "Epoch 17/50\n",
      "425/425 [==============================] - 0s 1ms/step - loss: 0.4663 - val_loss: 0.8617\n",
      "Epoch 18/50\n",
      "425/425 [==============================] - 0s 1ms/step - loss: 0.4602 - val_loss: 0.8782\n",
      "Epoch 19/50\n",
      "425/425 [==============================] - 0s 1ms/step - loss: 0.4543 - val_loss: 0.8904\n",
      "Epoch 20/50\n",
      "425/425 [==============================] - 0s 1ms/step - loss: 0.4468 - val_loss: 0.8768\n",
      "Epoch 21/50\n",
      "425/425 [==============================] - 0s 1ms/step - loss: 0.4424 - val_loss: 0.8922\n",
      "Epoch 22/50\n",
      "425/425 [==============================] - 0s 1ms/step - loss: 0.4346 - val_loss: 0.9005\n",
      "Epoch 23/50\n",
      "425/425 [==============================] - 0s 1ms/step - loss: 0.4300 - val_loss: 0.9256\n",
      "Epoch 24/50\n",
      "425/425 [==============================] - 0s 1ms/step - loss: 0.4240 - val_loss: 0.9057\n",
      "Epoch 25/50\n",
      "425/425 [==============================] - 0s 1ms/step - loss: 0.4213 - val_loss: 0.9365\n",
      "Epoch 26/50\n",
      "425/425 [==============================] - 0s 1ms/step - loss: 0.4155 - val_loss: 0.9172\n",
      "Epoch 27/50\n",
      "425/425 [==============================] - 0s 1ms/step - loss: 0.4147 - val_loss: 0.9454\n",
      "Epoch 28/50\n",
      "425/425 [==============================] - 0s 1ms/step - loss: 0.4115 - val_loss: 0.9171\n",
      "Epoch 29/50\n",
      "425/425 [==============================] - 0s 1ms/step - loss: 0.4100 - val_loss: 0.9415\n",
      "Epoch 30/50\n",
      "425/425 [==============================] - 0s 1ms/step - loss: 0.4080 - val_loss: 0.9312\n",
      "Epoch 31/50\n",
      "425/425 [==============================] - 0s 1ms/step - loss: 0.4035 - val_loss: 0.9262\n",
      "Epoch 32/50\n",
      "425/425 [==============================] - 0s 1ms/step - loss: 0.4041 - val_loss: 0.9498\n",
      "Epoch 33/50\n",
      "425/425 [==============================] - 0s 1ms/step - loss: 0.4049 - val_loss: 0.9356\n",
      "Epoch 34/50\n",
      "425/425 [==============================] - 0s 1ms/step - loss: 0.3987 - val_loss: 0.9491\n",
      "Epoch 35/50\n",
      "425/425 [==============================] - 0s 1ms/step - loss: 0.4015 - val_loss: 0.9455\n",
      "Epoch 36/50\n",
      "425/425 [==============================] - 0s 1ms/step - loss: 0.3993 - val_loss: 0.9411\n",
      "Epoch 37/50\n",
      "425/425 [==============================] - 0s 1ms/step - loss: 0.3976 - val_loss: 0.9753\n",
      "Epoch 38/50\n",
      "425/425 [==============================] - 0s 1ms/step - loss: 0.3965 - val_loss: 0.9547\n",
      "Epoch 39/50\n",
      "425/425 [==============================] - 0s 1ms/step - loss: 0.3927 - val_loss: 0.9741\n",
      "Epoch 40/50\n",
      "425/425 [==============================] - 0s 1ms/step - loss: 0.3955 - val_loss: 0.9446\n",
      "Epoch 41/50\n",
      "425/425 [==============================] - 0s 1ms/step - loss: 0.3947 - val_loss: 0.9854\n",
      "Epoch 42/50\n",
      "425/425 [==============================] - 0s 1ms/step - loss: 0.3924 - val_loss: 0.9633\n",
      "Epoch 43/50\n",
      "425/425 [==============================] - 0s 1ms/step - loss: 0.3920 - val_loss: 0.9718\n",
      "Epoch 44/50\n",
      "425/425 [==============================] - 0s 1ms/step - loss: 0.3907 - val_loss: 0.9664\n",
      "Epoch 45/50\n",
      "425/425 [==============================] - 0s 1ms/step - loss: 0.3904 - val_loss: 1.0031\n",
      "Epoch 46/50\n",
      "425/425 [==============================] - 0s 1ms/step - loss: 0.3888 - val_loss: 0.9999\n",
      "Epoch 47/50\n",
      "425/425 [==============================] - 0s 1ms/step - loss: 0.3893 - val_loss: 0.9884\n",
      "Epoch 48/50\n",
      "425/425 [==============================] - 0s 1ms/step - loss: 0.3874 - val_loss: 1.0107\n",
      "Epoch 49/50\n",
      "425/425 [==============================] - 0s 1ms/step - loss: 0.3895 - val_loss: 1.0286\n",
      "Epoch 50/50\n",
      "425/425 [==============================] - 0s 1ms/step - loss: 0.3857 - val_loss: 1.0209\n"
     ]
    }
   ],
   "source": [
    "from sklearn.metrics import mean_absolute_error\n",
    "history = model.fit(\n",
    "    x=[train.user_id, train.movie_id], \n",
    "    y=train.rating, \n",
    "    epochs=50, \n",
    "    batch_size=128,\n",
    "    shuffle=True, \n",
    "    validation_data=([validate.user_id, validate.movie_id], validate.rating)\n",
    ")"
   ]
  },
  {
   "cell_type": "code",
   "execution_count": 9,
   "metadata": {
    "id": "8WW3l_KIHWv3"
   },
   "outputs": [
    {
     "data": {
      "image/png": "[encoded data removed]",
      "text/plain": [
       "<Figure size 640x480 with 1 Axes>"
      ]
     },
     "metadata": {},
     "output_type": "display_data"
    },
    {
     "name": "stdout",
     "output_type": "stream",
     "text": [
      "213/213 [==============================] - 0s 481us/step\n"
     ]
    },
    {
     "data": {
      "text/plain": [
       "0.7498335788808269"
      ]
     },
     "execution_count": 9,
     "metadata": {},
     "output_type": "execute_result"
    }
   ],
   "source": [
    "pd.Series(history.history['loss']).plot(label=\"Training Set\")\n",
    "pd.Series(history.history['val_loss']).plot(label=\"Validation Set\")\n",
    "plt.xlabel(\"Epoch\")\n",
    "plt.ylabel(\"Error\")\n",
    "plt.legend()\n",
    "plt.show()\n",
    "\n",
    "y_hat = np.round(model.predict([test.user_id, test.movie_id]), decimals=2)\n",
    "y_true = test.rating\n",
    "mean_absolute_error(y_true, y_hat)"
   ]
  },
  {
   "cell_type": "code",
   "execution_count": 10,
   "metadata": {},
   "outputs": [
    {
     "data": {
      "text/plain": [
       "('rmse', 1.0209020877691566)"
      ]
     },
     "execution_count": 10,
     "metadata": {},
     "output_type": "execute_result"
    }
   ],
   "source": [
    "import evaluation\n",
    "\"mae\", evaluation.mean_absolute_error(y_true, y_hat)\n",
    "\"rmse\", evaluation.root_mean_squared_error(y_true, y_hat)"
   ]
  },
  {
   "cell_type": "code",
   "execution_count": 11,
   "metadata": {},
   "outputs": [],
   "source": [
    "movies = pd.read_csv(\"./data/movies.csv\")\n",
    "\n",
    "def getUserTopMovies(user_id: int) -> pd.DataFrame:\n",
    "    movie_ids = test.movie_id.unique()\n",
    "    predictions = model.predict([np.array([user_id] * len(movie_ids)), movie_ids])\n",
    "    combined = pd.DataFrame({'movie_id': movie_ids, 'predicted_rating': [_[0] for _ in predictions]})\n",
    "    #sort ratings descending\n",
    "    combined = combined.sort_values(by=\"predicted_rating\", ascending=False)\n",
    "    #append movie titles to DataFrame\n",
    "    combined = combined.set_index('movie_id').join(movies.set_index('movieId')).drop(columns = [\"genres\"])\n",
    "    #drop null entries\n",
    "    combined = combined.dropna()\n",
    "    #make movie_id a column\n",
    "    return combined.reset_index(level=0)\n"
   ]
  },
  {
   "cell_type": "code",
   "execution_count": 12,
   "metadata": {},
   "outputs": [
    {
     "name": "stdout",
     "output_type": "stream",
     "text": [
      "40/40 [==============================] - 0s 588us/step\n"
     ]
    },
    {
     "data": {
      "text/html": [
       "<div>\n",
       "<style scoped>\n",
       "    .dataframe tbody tr th:only-of-type {\n",
       "        vertical-align: middle;\n",
       "    }\n",
       "\n",
       "    .dataframe tbody tr th {\n",
       "        vertical-align: top;\n",
       "    }\n",
       "\n",
       "    .dataframe thead th {\n",
       "        text-align: right;\n",
       "    }\n",
       "</style>\n",
       "<table border=\"1\" class=\"dataframe\">\n",
       "  <thead>\n",
       "    <tr style=\"text-align: right;\">\n",
       "      <th></th>\n",
       "      <th>user_id</th>\n",
       "      <th>movie_id</th>\n",
       "      <th>rating</th>\n",
       "      <th>timestamp</th>\n",
       "    </tr>\n",
       "  </thead>\n",
       "  <tbody>\n",
       "  </tbody>\n",
       "</table>\n",
       "</div>"
      ],
      "text/plain": [
       "Empty DataFrame\n",
       "Columns: [user_id, movie_id, rating, timestamp]\n",
       "Index: []"
      ]
     },
     "execution_count": 12,
     "metadata": {},
     "output_type": "execute_result"
    }
   ],
   "source": [
    "topMovies = getUserTopMovies(111)\n",
    "topMovies.loc[topMovies.movie_id == 1956]\n",
    "test.loc[(test.movie_id == 1956) & (test.user_id == 111)]"
   ]
  },
  {
   "cell_type": "code",
   "execution_count": 13,
   "metadata": {},
   "outputs": [
    {
     "name": "stdout",
     "output_type": "stream",
     "text": [
      "40/40 [==============================] - 0s 599us/step\n"
     ]
    },
    {
     "data": {
      "text/html": [
       "<div>\n",
       "<style scoped>\n",
       "    .dataframe tbody tr th:only-of-type {\n",
       "        vertical-align: middle;\n",
       "    }\n",
       "\n",
       "    .dataframe tbody tr th {\n",
       "        vertical-align: top;\n",
       "    }\n",
       "\n",
       "    .dataframe thead th {\n",
       "        text-align: right;\n",
       "    }\n",
       "</style>\n",
       "<table border=\"1\" class=\"dataframe\">\n",
       "  <thead>\n",
       "    <tr style=\"text-align: right;\">\n",
       "      <th></th>\n",
       "      <th>user_id</th>\n",
       "      <th>movie_id</th>\n",
       "      <th>rating</th>\n",
       "      <th>timestamp</th>\n",
       "    </tr>\n",
       "  </thead>\n",
       "  <tbody>\n",
       "  </tbody>\n",
       "</table>\n",
       "</div>"
      ],
      "text/plain": [
       "Empty DataFrame\n",
       "Columns: [user_id, movie_id, rating, timestamp]\n",
       "Index: []"
      ]
     },
     "execution_count": 13,
     "metadata": {},
     "output_type": "execute_result"
    }
   ],
   "source": [
    "topMovies = getUserTopMovies(564)\n",
    "topMovies.loc[topMovies.movie_id == 1956]\n",
    "validate.loc[(validate.movie_id == 1956) & (validate.user_id == 564)]"
   ]
  },
  {
   "cell_type": "raw",
   "metadata": {},
   "source": [
    "topMovies = getUserTopMovies(21)\n",
    "topMovies.loc[topMovies.movie_id == 1956]\n",
    "train.loc[(train.movie_id == 1956) & (train.user_id == 21)]"
   ]
  }
 ],
 "metadata": {
  "colab": {
   "collapsed_sections": [],
   "provenance": []
  },
  "kernelspec": {
   "display_name": "Python 3 (ipykernel)",
   "language": "python",
   "name": "python3"
  },
  "language_info": {
   "codemirror_mode": {
    "name": "ipython",
    "version": 3
   },
   "file_extension": ".py",
   "mimetype": "text/x-python",
   "name": "python",
   "nbconvert_exporter": "python",
   "pygments_lexer": "ipython3",
   "version": "3.10.6"
  },
  "vscode": {
   "interpreter": {
    "hash": "a665b5d41d17b532ea9890333293a1b812fa0b73c9c25c950b3cedf1bebd0438"
   }
  }
 },
 "nbformat": 4,
 "nbformat_minor": 1
}
