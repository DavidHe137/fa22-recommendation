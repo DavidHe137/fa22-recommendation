{
  "nbformat": 4,
  "nbformat_minor": 0,
  "metadata": {
    "colab": {
      "provenance": [],
      "collapsed_sections": []
    },
    "kernelspec": {
      "name": "python3",
      "display_name": "Python 3"
    },
    "language_info": {
      "name": "python"
    }
  },
  "cells": [
    {
      "cell_type": "code",
      "execution_count": 115,
      "metadata": {
        "id": "b845Moxv2xZx"
      },
      "outputs": [],
      "source": [
        "import pandas as pd\n",
        "import numpy as np\n",
        "from zipfile import ZipFile\n",
        "import tensorflow as tf\n",
        "from tensorflow import keras\n",
        "from pathlib import Path\n",
        "import matplotlib.pyplot as plt\n",
        "\n",
        "movielens_data_file_url = (\n",
        "    \"https://files.grouplens.org/datasets/movielens/ml-25m.zip\"\n",
        ")\n",
        "movielens_zipped_file = keras.utils.get_file(\n",
        "    \"ml-latest-small.zip\", movielens_data_file_url, extract=False\n",
        ")\n",
        "keras_datasets_path = Path(movielens_zipped_file).parents[0]\n",
        "movielens_dir = keras_datasets_path / \"ml-latest-small\"\n",
        "\n",
        "# Only extract the data the first time the script is run.\n",
        "if not movielens_dir.exists():\n",
        "    with ZipFile(movielens_zipped_file, \"r\") as zip:\n",
        "        # Extract files\n",
        "        print(\"Extracting all the files now...\")\n",
        "        zip.extractall(path=keras_datasets_path)\n",
        "        print(\"Done!\")\n",
        "\n",
        "ratings_file = movielens_dir / \"ratings.csv\"\n",
        "\n",
        "df = pd.read_csv(ratings_file, header=0, names=['user_id', 'movie_id', 'rating', 'timestamp'])\n",
        "\n",
        "# Need to map movie ID to [1, num_movies]\n",
        "movie_id_to_new_id = dict()\n",
        "id = 1\n",
        "for index, row in df.iterrows():\n",
        "    if movie_id_to_new_id.get(row['movie_id']) is None:\n",
        "        movie_id_to_new_id[row['movie_id']] = id\n",
        "        df.at[index, 'movie_id'] = id\n",
        "        id += 1\n",
        "    else:\n",
        "        df.at[index, 'movie_id'] = movie_id_to_new_id.get(row['movie_id'])\n",
        "\n",
        "num_users = len(df.user_id.unique())\n",
        "num_movies = len(df.movie_id.unique())\n",
        "train, validate, test = np.split(df.sample(frac=1), [int(.8*len(df)), int(.9*len(df))])"
      ]
    },
    {
      "cell_type": "code",
      "source": [
        "print(len(train))\n",
        "print(len(validate))\n",
        "print(len(test))"
      ],
      "metadata": {
        "colab": {
          "base_uri": "https://localhost:8080/"
        },
        "id": "fFZGvpC1Diy1",
        "outputId": "79461f10-471d-4871-fbe6-9e462ab0bbaa"
      },
      "execution_count": 116,
      "outputs": [
        {
          "output_type": "stream",
          "name": "stdout",
          "text": [
            "80668\n",
            "10084\n",
            "10084\n"
          ]
        }
      ]
    },
    {
      "cell_type": "code",
      "source": [
        "num_movies"
      ],
      "metadata": {
        "colab": {
          "base_uri": "https://localhost:8080/"
        },
        "id": "h8NSYIHw3Usd",
        "outputId": "5b2c0ff8-adb1-490a-d1cf-0234ae20a5cd"
      },
      "execution_count": 117,
      "outputs": [
        {
          "output_type": "execute_result",
          "data": {
            "text/plain": [
              "9724"
            ]
          },
          "metadata": {},
          "execution_count": 117
        }
      ]
    },
    {
      "cell_type": "code",
      "source": [
        "num_users"
      ],
      "metadata": {
        "colab": {
          "base_uri": "https://localhost:8080/"
        },
        "id": "CUV4Cua23jaU",
        "outputId": "f0f861fa-a45a-4b7e-ac60-8cf2f484ad34"
      },
      "execution_count": 118,
      "outputs": [
        {
          "output_type": "execute_result",
          "data": {
            "text/plain": [
              "610"
            ]
          },
          "metadata": {},
          "execution_count": 118
        }
      ]
    },
    {
      "cell_type": "code",
      "source": [
        "df"
      ],
      "metadata": {
        "colab": {
          "base_uri": "https://localhost:8080/",
          "height": 424
        },
        "id": "CeEdYgkO4GWX",
        "outputId": "dbc20182-85fd-4ed7-cf22-4985db10fc4c"
      },
      "execution_count": 119,
      "outputs": [
        {
          "output_type": "execute_result",
          "data": {
            "text/plain": [
              "        user_id  movie_id  rating   timestamp\n",
              "0             1         1     4.0   964982703\n",
              "1             1         2     4.0   964981247\n",
              "2             1         3     4.0   964982224\n",
              "3             1         4     5.0   964983815\n",
              "4             1         5     5.0   964982931\n",
              "...         ...       ...     ...         ...\n",
              "100831      610      3121     4.0  1493848402\n",
              "100832      610      2036     5.0  1493850091\n",
              "100833      610      3122     5.0  1494273047\n",
              "100834      610      1393     5.0  1493846352\n",
              "100835      610      2874     3.0  1493846415\n",
              "\n",
              "[100836 rows x 4 columns]"
            ],
            "text/html": [
              "\n",
              "  <div id=\"df-b9e7859a-59b5-4f4b-a5f0-a5807481f1f2\">\n",
              "    <div class=\"colab-df-container\">\n",
              "      <div>\n",
              "<style scoped>\n",
              "    .dataframe tbody tr th:only-of-type {\n",
              "        vertical-align: middle;\n",
              "    }\n",
              "\n",
              "    .dataframe tbody tr th {\n",
              "        vertical-align: top;\n",
              "    }\n",
              "\n",
              "    .dataframe thead th {\n",
              "        text-align: right;\n",
              "    }\n",
              "</style>\n",
              "<table border=\"1\" class=\"dataframe\">\n",
              "  <thead>\n",
              "    <tr style=\"text-align: right;\">\n",
              "      <th></th>\n",
              "      <th>user_id</th>\n",
              "      <th>movie_id</th>\n",
              "      <th>rating</th>\n",
              "      <th>timestamp</th>\n",
              "    </tr>\n",
              "  </thead>\n",
              "  <tbody>\n",
              "    <tr>\n",
              "      <th>0</th>\n",
              "      <td>1</td>\n",
              "      <td>1</td>\n",
              "      <td>4.0</td>\n",
              "      <td>964982703</td>\n",
              "    </tr>\n",
              "    <tr>\n",
              "      <th>1</th>\n",
              "      <td>1</td>\n",
              "      <td>2</td>\n",
              "      <td>4.0</td>\n",
              "      <td>964981247</td>\n",
              "    </tr>\n",
              "    <tr>\n",
              "      <th>2</th>\n",
              "      <td>1</td>\n",
              "      <td>3</td>\n",
              "      <td>4.0</td>\n",
              "      <td>964982224</td>\n",
              "    </tr>\n",
              "    <tr>\n",
              "      <th>3</th>\n",
              "      <td>1</td>\n",
              "      <td>4</td>\n",
              "      <td>5.0</td>\n",
              "      <td>964983815</td>\n",
              "    </tr>\n",
              "    <tr>\n",
              "      <th>4</th>\n",
              "      <td>1</td>\n",
              "      <td>5</td>\n",
              "      <td>5.0</td>\n",
              "      <td>964982931</td>\n",
              "    </tr>\n",
              "    <tr>\n",
              "      <th>...</th>\n",
              "      <td>...</td>\n",
              "      <td>...</td>\n",
              "      <td>...</td>\n",
              "      <td>...</td>\n",
              "    </tr>\n",
              "    <tr>\n",
              "      <th>100831</th>\n",
              "      <td>610</td>\n",
              "      <td>3121</td>\n",
              "      <td>4.0</td>\n",
              "      <td>1493848402</td>\n",
              "    </tr>\n",
              "    <tr>\n",
              "      <th>100832</th>\n",
              "      <td>610</td>\n",
              "      <td>2036</td>\n",
              "      <td>5.0</td>\n",
              "      <td>1493850091</td>\n",
              "    </tr>\n",
              "    <tr>\n",
              "      <th>100833</th>\n",
              "      <td>610</td>\n",
              "      <td>3122</td>\n",
              "      <td>5.0</td>\n",
              "      <td>1494273047</td>\n",
              "    </tr>\n",
              "    <tr>\n",
              "      <th>100834</th>\n",
              "      <td>610</td>\n",
              "      <td>1393</td>\n",
              "      <td>5.0</td>\n",
              "      <td>1493846352</td>\n",
              "    </tr>\n",
              "    <tr>\n",
              "      <th>100835</th>\n",
              "      <td>610</td>\n",
              "      <td>2874</td>\n",
              "      <td>3.0</td>\n",
              "      <td>1493846415</td>\n",
              "    </tr>\n",
              "  </tbody>\n",
              "</table>\n",
              "<p>100836 rows × 4 columns</p>\n",
              "</div>\n",
              "      <button class=\"colab-df-convert\" onclick=\"convertToInteractive('df-b9e7859a-59b5-4f4b-a5f0-a5807481f1f2')\"\n",
              "              title=\"Convert this dataframe to an interactive table.\"\n",
              "              style=\"display:none;\">\n",
              "        \n",
              "  <svg xmlns=\"http://www.w3.org/2000/svg\" height=\"24px\"viewBox=\"0 0 24 24\"\n",
              "       width=\"24px\">\n",
              "    <path d=\"M0 0h24v24H0V0z\" fill=\"none\"/>\n",
              "    <path d=\"M18.56 5.44l.94 2.06.94-2.06 2.06-.94-2.06-.94-.94-2.06-.94 2.06-2.06.94zm-11 1L8.5 8.5l.94-2.06 2.06-.94-2.06-.94L8.5 2.5l-.94 2.06-2.06.94zm10 10l.94 2.06.94-2.06 2.06-.94-2.06-.94-.94-2.06-.94 2.06-2.06.94z\"/><path d=\"M17.41 7.96l-1.37-1.37c-.4-.4-.92-.59-1.43-.59-.52 0-1.04.2-1.43.59L10.3 9.45l-7.72 7.72c-.78.78-.78 2.05 0 2.83L4 21.41c.39.39.9.59 1.41.59.51 0 1.02-.2 1.41-.59l7.78-7.78 2.81-2.81c.8-.78.8-2.07 0-2.86zM5.41 20L4 18.59l7.72-7.72 1.47 1.35L5.41 20z\"/>\n",
              "  </svg>\n",
              "      </button>\n",
              "      \n",
              "  <style>\n",
              "    .colab-df-container {\n",
              "      display:flex;\n",
              "      flex-wrap:wrap;\n",
              "      gap: 12px;\n",
              "    }\n",
              "\n",
              "    .colab-df-convert {\n",
              "      background-color: #E8F0FE;\n",
              "      border: none;\n",
              "      border-radius: 50%;\n",
              "      cursor: pointer;\n",
              "      display: none;\n",
              "      fill: #1967D2;\n",
              "      height: 32px;\n",
              "      padding: 0 0 0 0;\n",
              "      width: 32px;\n",
              "    }\n",
              "\n",
              "    .colab-df-convert:hover {\n",
              "      background-color: #E2EBFA;\n",
              "      box-shadow: 0px 1px 2px rgba(60, 64, 67, 0.3), 0px 1px 3px 1px rgba(60, 64, 67, 0.15);\n",
              "      fill: #174EA6;\n",
              "    }\n",
              "\n",
              "    [theme=dark] .colab-df-convert {\n",
              "      background-color: #3B4455;\n",
              "      fill: #D2E3FC;\n",
              "    }\n",
              "\n",
              "    [theme=dark] .colab-df-convert:hover {\n",
              "      background-color: #434B5C;\n",
              "      box-shadow: 0px 1px 3px 1px rgba(0, 0, 0, 0.15);\n",
              "      filter: drop-shadow(0px 1px 2px rgba(0, 0, 0, 0.3));\n",
              "      fill: #FFFFFF;\n",
              "    }\n",
              "  </style>\n",
              "\n",
              "      <script>\n",
              "        const buttonEl =\n",
              "          document.querySelector('#df-b9e7859a-59b5-4f4b-a5f0-a5807481f1f2 button.colab-df-convert');\n",
              "        buttonEl.style.display =\n",
              "          google.colab.kernel.accessAllowed ? 'block' : 'none';\n",
              "\n",
              "        async function convertToInteractive(key) {\n",
              "          const element = document.querySelector('#df-b9e7859a-59b5-4f4b-a5f0-a5807481f1f2');\n",
              "          const dataTable =\n",
              "            await google.colab.kernel.invokeFunction('convertToInteractive',\n",
              "                                                     [key], {});\n",
              "          if (!dataTable) return;\n",
              "\n",
              "          const docLinkHtml = 'Like what you see? Visit the ' +\n",
              "            '<a target=\"_blank\" href=https://colab.research.google.com/notebooks/data_table.ipynb>data table notebook</a>'\n",
              "            + ' to learn more about interactive tables.';\n",
              "          element.innerHTML = '';\n",
              "          dataTable['output_type'] = 'display_data';\n",
              "          await google.colab.output.renderOutput(dataTable, element);\n",
              "          const docLink = document.createElement('div');\n",
              "          docLink.innerHTML = docLinkHtml;\n",
              "          element.appendChild(docLink);\n",
              "        }\n",
              "      </script>\n",
              "    </div>\n",
              "  </div>\n",
              "  "
            ]
          },
          "metadata": {},
          "execution_count": 119
        }
      ]
    },
    {
      "cell_type": "code",
      "source": [
        "from keras.models import Model, Sequential\n",
        "from keras.layers import Embedding, Flatten, Input, Dot, Dropout, Dense\n",
        "from keras.optimizers import Adam\n",
        "\n",
        "latent_dim = 10\n",
        "\n",
        "movie_input = Input(shape=[1],name='movie-input')\n",
        "movie_embedding = Embedding(num_movies + 1, latent_dim, name='movie-embedding')(movie_input)\n",
        "movie_vec = Flatten(name='movie-flatten')(movie_embedding)\n",
        "\n",
        "user_input = Input(shape=[1],name='user-input')\n",
        "user_embedding = Embedding(num_users + 1, latent_dim, name='user-embedding')(user_input)\n",
        "user_vec = Flatten(name='user-flatten')(user_embedding)\n",
        "\n",
        "concat = Dot(axes=1, name='movie-user-concat')([movie_vec, user_vec])\n",
        "concat_dropout = Dropout(0.2)(concat)\n",
        "fc_1 = Dense(128, name='fc-1', activation='relu')(concat)\n",
        "fc_1_dropout = Dropout(0.2, name='fc-1-dropout')(fc_1)\n",
        "fc_2 = Dense(64, name='fc-2', activation='relu')(fc_1_dropout)\n",
        "fc_2_dropout = Dropout(0.2, name='fc-2-dropout')(fc_2)\n",
        "fc_3 = Dense(1, name='fc-3', activation='relu')(fc_2_dropout)\n",
        "\n",
        "\n",
        "model = Model([user_input, movie_input], fc_3)\n",
        "model.compile(optimizer=Adam(learning_rate=0.001), loss='mean_squared_error')"
      ],
      "metadata": {
        "id": "wPGldpgq4RX4"
      },
      "execution_count": 120,
      "outputs": []
    },
    {
      "cell_type": "code",
      "source": [
        "model.summary()"
      ],
      "metadata": {
        "id": "Z-bBj8P15G1o",
        "colab": {
          "base_uri": "https://localhost:8080/"
        },
        "outputId": "81d2389b-e804-44d7-b57e-e594c6e2d951"
      },
      "execution_count": 121,
      "outputs": [
        {
          "output_type": "stream",
          "name": "stdout",
          "text": [
            "Model: \"model_14\"\n",
            "__________________________________________________________________________________________________\n",
            " Layer (type)                   Output Shape         Param #     Connected to                     \n",
            "==================================================================================================\n",
            " movie-input (InputLayer)       [(None, 1)]          0           []                               \n",
            "                                                                                                  \n",
            " user-input (InputLayer)        [(None, 1)]          0           []                               \n",
            "                                                                                                  \n",
            " movie-embedding (Embedding)    (None, 1, 10)        97250       ['movie-input[0][0]']            \n",
            "                                                                                                  \n",
            " user-embedding (Embedding)     (None, 1, 10)        6110        ['user-input[0][0]']             \n",
            "                                                                                                  \n",
            " movie-flatten (Flatten)        (None, 10)           0           ['movie-embedding[0][0]']        \n",
            "                                                                                                  \n",
            " user-flatten (Flatten)         (None, 10)           0           ['user-embedding[0][0]']         \n",
            "                                                                                                  \n",
            " movie-user-concat (Dot)        (None, 1)            0           ['movie-flatten[0][0]',          \n",
            "                                                                  'user-flatten[0][0]']           \n",
            "                                                                                                  \n",
            " fc-1 (Dense)                   (None, 128)          256         ['movie-user-concat[0][0]']      \n",
            "                                                                                                  \n",
            " fc-1-dropout (Dropout)         (None, 128)          0           ['fc-1[0][0]']                   \n",
            "                                                                                                  \n",
            " fc-2 (Dense)                   (None, 64)           8256        ['fc-1-dropout[0][0]']           \n",
            "                                                                                                  \n",
            " fc-2-dropout (Dropout)         (None, 64)           0           ['fc-2[0][0]']                   \n",
            "                                                                                                  \n",
            " fc-3 (Dense)                   (None, 1)            65          ['fc-2-dropout[0][0]']           \n",
            "                                                                                                  \n",
            "==================================================================================================\n",
            "Total params: 111,937\n",
            "Trainable params: 111,937\n",
            "Non-trainable params: 0\n",
            "__________________________________________________________________________________________________\n"
          ]
        }
      ]
    },
    {
      "cell_type": "code",
      "source": [
        "from sklearn.metrics import mean_absolute_error\n",
        "history = model.fit(\n",
        "    x=[train.user_id, train.movie_id], \n",
        "    y=train.rating, \n",
        "    epochs=10, \n",
        "    batch_size=64, \n",
        "    validation_data=([validate.user_id, validate.movie_id], validate.rating)\n",
        ")\n",
        "pd.Series(history.history['loss']).plot()\n",
        "pd.Series(history.history['val_loss']).plot()\n",
        "plt.xlabel(\"Epoch\")\n",
        "plt.ylabel(\"Train vs Validation Error\")\n",
        "plt.show()\n",
        "\n",
        "y_hat = np.round(model.predict([test.user_id, test.movie_id]), decimals=2)\n",
        "y_true = test.rating\n",
        "mean_absolute_error(y_true, y_hat)"
      ],
      "metadata": {
        "colab": {
          "base_uri": "https://localhost:8080/",
          "height": 672
        },
        "id": "WNZkTpz28RUa",
        "outputId": "1a55e17d-5c97-4196-9892-228389f89c58"
      },
      "execution_count": 122,
      "outputs": [
        {
          "output_type": "stream",
          "name": "stdout",
          "text": [
            "Epoch 1/10\n",
            "1261/1261 [==============================] - 4s 3ms/step - loss: 1.4996 - val_loss: 0.9516\n",
            "Epoch 2/10\n",
            "1261/1261 [==============================] - 3s 2ms/step - loss: 0.8383 - val_loss: 0.8654\n",
            "Epoch 3/10\n",
            "1261/1261 [==============================] - 3s 3ms/step - loss: 0.6200 - val_loss: 0.8773\n",
            "Epoch 4/10\n",
            "1261/1261 [==============================] - 3s 2ms/step - loss: 0.5222 - val_loss: 0.8882\n",
            "Epoch 5/10\n",
            "1261/1261 [==============================] - 3s 2ms/step - loss: 0.4662 - val_loss: 0.9492\n",
            "Epoch 6/10\n",
            "1261/1261 [==============================] - 3s 3ms/step - loss: 0.4316 - val_loss: 0.9541\n",
            "Epoch 7/10\n",
            "1261/1261 [==============================] - 3s 3ms/step - loss: 0.4043 - val_loss: 0.9290\n",
            "Epoch 8/10\n",
            "1261/1261 [==============================] - 3s 3ms/step - loss: 0.3832 - val_loss: 0.9409\n",
            "Epoch 9/10\n",
            "1261/1261 [==============================] - 3s 3ms/step - loss: 0.3661 - val_loss: 0.9862\n",
            "Epoch 10/10\n",
            "1261/1261 [==============================] - 3s 2ms/step - loss: 0.3521 - val_loss: 0.9839\n"
          ]
        },
        {
          "output_type": "display_data",
          "data": {
            "text/plain": [
              "<Figure size 432x288 with 1 Axes>"
            ],
            "image/png": "[encoded data removed]"
          },
          "metadata": {
            "needs_background": "light"
          }
        },
        {
          "output_type": "stream",
          "name": "stdout",
          "text": [
            "316/316 [==============================] - 0s 1ms/step\n"
          ]
        },
        {
          "output_type": "execute_result",
          "data": {
            "text/plain": [
              "0.7423403425757632"
            ]
          },
          "metadata": {},
          "execution_count": 122
        }
      ]
    },
    {
      "cell_type": "code",
      "source": [],
      "metadata": {
        "id": "8WW3l_KIHWv3"
      },
      "execution_count": 122,
      "outputs": []
    }
  ]
}