{
  "cells": [
    {
      "cell_type": "code",
      "execution_count": 72,
      "metadata": {
        "id": "b845Moxv2xZx"
      },
      "outputs": [
        {
          "name": "stdout",
          "output_type": "stream",
          "text": [
            "Downloading data from https://files.grouplens.org/datasets/movielens/ml-latest-small.zip\n",
            "978202/978202 [==============================] - 0s 0us/step\n"
          ]
        }
      ],
      "source": [
        "import pandas as pd\n",
        "import numpy as np\n",
        "from zipfile import ZipFile\n",
        "from tensorflow import keras\n",
        "from pathlib import Path\n",
        "import matplotlib.pyplot as plt\n",
        "\n",
        "movielens_data_file_url = (\n",
        "    \"https://files.grouplens.org/datasets/movielens/ml-latest-small.zip\"\n",
        ")\n",
        "movielens_zipped_file = keras.utils.get_file(\n",
        "    \"ml-latest-small.zip\", movielens_data_file_url, extract=False\n",
        ")\n",
        "keras_datasets_path = Path(movielens_zipped_file).parents[0]\n",
        "movielens_dir = keras_datasets_path / \"ml-latest-small\"\n",
        "\n",
        "# Only extract the data the first time the script is run.\n",
        "if not movielens_dir.exists():\n",
        "    with ZipFile(movielens_zipped_file, \"r\") as zip:\n",
        "        # Extract files\n",
        "        print(\"Extracting all the files now...\")\n",
        "        zip.extractall(path=keras_datasets_path)\n",
        "        print(\"Done!\")\n",
        "\n",
        "ratings_file = movielens_dir / \"ratings.csv\"\n",
        "\n",
        "df = pd.read_csv(ratings_file, header=0, names=['user_id', 'movie_id', 'rating', 'timestamp'])\n",
        "\n",
        "# Need to map movie ID to [1, num_movies]\n",
        "movie_id_to_new_id = dict()\n",
        "id = 1\n",
        "for index, row in df.iterrows():\n",
        "    if movie_id_to_new_id.get(row['movie_id']) is None:\n",
        "        movie_id_to_new_id[row['movie_id']] = id\n",
        "        df.at[index, 'movie_id'] = id\n",
        "        id += 1\n",
        "    else:\n",
        "        df.at[index, 'movie_id'] = movie_id_to_new_id.get(row['movie_id'])\n",
        "\n",
        "num_users = len(df.user_id.unique())\n",
        "num_movies = len(df.movie_id.unique())\n",
        "train, validate, test = np.split(df.sample(frac=1), [int(.8*len(df)), int(.9*len(df))])"
      ]
    },
    {
      "cell_type": "code",
      "execution_count": 73,
      "metadata": {
        "colab": {
          "base_uri": "https://localhost:8080/"
        },
        "id": "fFZGvpC1Diy1",
        "outputId": "79461f10-471d-4871-fbe6-9e462ab0bbaa"
      },
      "outputs": [
        {
          "name": "stdout",
          "output_type": "stream",
          "text": [
            "80668\n",
            "10084\n",
            "10084\n"
          ]
        }
      ],
      "source": [
        "print(len(train))\n",
        "print(len(validate))\n",
        "print(len(test))"
      ]
    },
    {
      "cell_type": "code",
      "execution_count": 74,
      "metadata": {
        "colab": {
          "base_uri": "https://localhost:8080/"
        },
        "id": "h8NSYIHw3Usd",
        "outputId": "5b2c0ff8-adb1-490a-d1cf-0234ae20a5cd"
      },
      "outputs": [
        {
          "data": {
            "text/plain": [
              "9724"
            ]
          },
          "execution_count": 74,
          "metadata": {},
          "output_type": "execute_result"
        }
      ],
      "source": [
        "num_movies"
      ]
    },
    {
      "cell_type": "code",
      "execution_count": 75,
      "metadata": {
        "colab": {
          "base_uri": "https://localhost:8080/"
        },
        "id": "CUV4Cua23jaU",
        "outputId": "f0f861fa-a45a-4b7e-ac60-8cf2f484ad34"
      },
      "outputs": [
        {
          "data": {
            "text/plain": [
              "610"
            ]
          },
          "execution_count": 75,
          "metadata": {},
          "output_type": "execute_result"
        }
      ],
      "source": [
        "num_users"
      ]
    },
    {
      "cell_type": "code",
      "execution_count": 76,
      "metadata": {
        "colab": {
          "base_uri": "https://localhost:8080/",
          "height": 424
        },
        "id": "CeEdYgkO4GWX",
        "outputId": "dbc20182-85fd-4ed7-cf22-4985db10fc4c"
      },
      "outputs": [
        {
          "data": {
            "text/html": [
              "<div>\n",
              "<style scoped>\n",
              "    .dataframe tbody tr th:only-of-type {\n",
              "        vertical-align: middle;\n",
              "    }\n",
              "\n",
              "    .dataframe tbody tr th {\n",
              "        vertical-align: top;\n",
              "    }\n",
              "\n",
              "    .dataframe thead th {\n",
              "        text-align: right;\n",
              "    }\n",
              "</style>\n",
              "<table border=\"1\" class=\"dataframe\">\n",
              "  <thead>\n",
              "    <tr style=\"text-align: right;\">\n",
              "      <th></th>\n",
              "      <th>user_id</th>\n",
              "      <th>movie_id</th>\n",
              "      <th>rating</th>\n",
              "      <th>timestamp</th>\n",
              "    </tr>\n",
              "  </thead>\n",
              "  <tbody>\n",
              "    <tr>\n",
              "      <th>0</th>\n",
              "      <td>1</td>\n",
              "      <td>1</td>\n",
              "      <td>4.0</td>\n",
              "      <td>964982703</td>\n",
              "    </tr>\n",
              "    <tr>\n",
              "      <th>1</th>\n",
              "      <td>1</td>\n",
              "      <td>2</td>\n",
              "      <td>4.0</td>\n",
              "      <td>964981247</td>\n",
              "    </tr>\n",
              "    <tr>\n",
              "      <th>2</th>\n",
              "      <td>1</td>\n",
              "      <td>3</td>\n",
              "      <td>4.0</td>\n",
              "      <td>964982224</td>\n",
              "    </tr>\n",
              "    <tr>\n",
              "      <th>3</th>\n",
              "      <td>1</td>\n",
              "      <td>4</td>\n",
              "      <td>5.0</td>\n",
              "      <td>964983815</td>\n",
              "    </tr>\n",
              "    <tr>\n",
              "      <th>4</th>\n",
              "      <td>1</td>\n",
              "      <td>5</td>\n",
              "      <td>5.0</td>\n",
              "      <td>964982931</td>\n",
              "    </tr>\n",
              "    <tr>\n",
              "      <th>...</th>\n",
              "      <td>...</td>\n",
              "      <td>...</td>\n",
              "      <td>...</td>\n",
              "      <td>...</td>\n",
              "    </tr>\n",
              "    <tr>\n",
              "      <th>100831</th>\n",
              "      <td>610</td>\n",
              "      <td>3121</td>\n",
              "      <td>4.0</td>\n",
              "      <td>1493848402</td>\n",
              "    </tr>\n",
              "    <tr>\n",
              "      <th>100832</th>\n",
              "      <td>610</td>\n",
              "      <td>2036</td>\n",
              "      <td>5.0</td>\n",
              "      <td>1493850091</td>\n",
              "    </tr>\n",
              "    <tr>\n",
              "      <th>100833</th>\n",
              "      <td>610</td>\n",
              "      <td>3122</td>\n",
              "      <td>5.0</td>\n",
              "      <td>1494273047</td>\n",
              "    </tr>\n",
              "    <tr>\n",
              "      <th>100834</th>\n",
              "      <td>610</td>\n",
              "      <td>1393</td>\n",
              "      <td>5.0</td>\n",
              "      <td>1493846352</td>\n",
              "    </tr>\n",
              "    <tr>\n",
              "      <th>100835</th>\n",
              "      <td>610</td>\n",
              "      <td>2874</td>\n",
              "      <td>3.0</td>\n",
              "      <td>1493846415</td>\n",
              "    </tr>\n",
              "  </tbody>\n",
              "</table>\n",
              "<p>100836 rows × 4 columns</p>\n",
              "</div>"
            ],
            "text/plain": [
              "        user_id  movie_id  rating   timestamp\n",
              "0             1         1     4.0   964982703\n",
              "1             1         2     4.0   964981247\n",
              "2             1         3     4.0   964982224\n",
              "3             1         4     5.0   964983815\n",
              "4             1         5     5.0   964982931\n",
              "...         ...       ...     ...         ...\n",
              "100831      610      3121     4.0  1493848402\n",
              "100832      610      2036     5.0  1493850091\n",
              "100833      610      3122     5.0  1494273047\n",
              "100834      610      1393     5.0  1493846352\n",
              "100835      610      2874     3.0  1493846415\n",
              "\n",
              "[100836 rows x 4 columns]"
            ]
          },
          "execution_count": 76,
          "metadata": {},
          "output_type": "execute_result"
        }
      ],
      "source": [
        "df"
      ]
    },
    {
      "cell_type": "code",
      "execution_count": 77,
      "metadata": {
        "id": "wPGldpgq4RX4"
      },
      "outputs": [],
      "source": [
        "from keras.models import Model\n",
        "from keras.layers import Embedding, Flatten, Input, Dot, Dropout, Dense\n",
        "from keras.optimizers import Adam\n",
        "\n",
        "latent_dim = 10\n",
        "\n",
        "movie_input = Input(shape=[1],name='movie-input')\n",
        "movie_embedding = Embedding(num_movies + 1, latent_dim, name='movie-embedding')(movie_input)\n",
        "movie_vec = Flatten(name='movie-flatten')(movie_embedding)\n",
        "\n",
        "user_input = Input(shape=[1],name='user-input')\n",
        "user_embedding = Embedding(num_users + 1, latent_dim, name='user-embedding')(user_input)\n",
        "user_vec = Flatten(name='user-flatten')(user_embedding)\n",
        "\n",
        "concat = Dot(axes=1, name='movie-user-concat')([movie_vec, user_vec])\n",
        "concat_dropout = Dropout(0.2)(concat)\n",
        "fc_1 = Dense(128, name='fc-1', activation='relu',  kernel_regularizer=\"l2\")(concat)\n",
        "fc_1_dropout = Dropout(0.2, name='fc-1-dropout')(fc_1)\n",
        "fc_2 = Dense(64, name='fc-2', activation='relu')(fc_1_dropout)\n",
        "fc_2_dropout = Dropout(0.2, name='fc-2-dropout')(fc_2)\n",
        "fc_3 = Dense(1, name='fc-3', activation='relu')(fc_2_dropout)\n",
        "\n",
        "\n",
        "model = Model([user_input, movie_input], fc_3)\n",
        "model.compile(optimizer=Adam(learning_rate=0.001), loss='mean_squared_error')"
      ]
    },
    {
      "cell_type": "code",
      "execution_count": 78,
      "metadata": {
        "colab": {
          "base_uri": "https://localhost:8080/"
        },
        "id": "Z-bBj8P15G1o",
        "outputId": "81d2389b-e804-44d7-b57e-e594c6e2d951"
      },
      "outputs": [
        {
          "name": "stdout",
          "output_type": "stream",
          "text": [
            "Model: \"model_11\"\n",
            "__________________________________________________________________________________________________\n",
            " Layer (type)                   Output Shape         Param #     Connected to                     \n",
            "==================================================================================================\n",
            " movie-input (InputLayer)       [(None, 1)]          0           []                               \n",
            "                                                                                                  \n",
            " user-input (InputLayer)        [(None, 1)]          0           []                               \n",
            "                                                                                                  \n",
            " movie-embedding (Embedding)    (None, 1, 10)        97250       ['movie-input[0][0]']            \n",
            "                                                                                                  \n",
            " user-embedding (Embedding)     (None, 1, 10)        6110        ['user-input[0][0]']             \n",
            "                                                                                                  \n",
            " movie-flatten (Flatten)        (None, 10)           0           ['movie-embedding[0][0]']        \n",
            "                                                                                                  \n",
            " user-flatten (Flatten)         (None, 10)           0           ['user-embedding[0][0]']         \n",
            "                                                                                                  \n",
            " movie-user-concat (Dot)        (None, 1)            0           ['movie-flatten[0][0]',          \n",
            "                                                                  'user-flatten[0][0]']           \n",
            "                                                                                                  \n",
            " fc-1 (Dense)                   (None, 128)          256         ['movie-user-concat[0][0]']      \n",
            "                                                                                                  \n",
            " fc-1-dropout (Dropout)         (None, 128)          0           ['fc-1[0][0]']                   \n",
            "                                                                                                  \n",
            " fc-2 (Dense)                   (None, 64)           8256        ['fc-1-dropout[0][0]']           \n",
            "                                                                                                  \n",
            " fc-2-dropout (Dropout)         (None, 64)           0           ['fc-2[0][0]']                   \n",
            "                                                                                                  \n",
            " fc-3 (Dense)                   (None, 1)            65          ['fc-2-dropout[0][0]']           \n",
            "                                                                                                  \n",
            "==================================================================================================\n",
            "Total params: 111,937\n",
            "Trainable params: 111,937\n",
            "Non-trainable params: 0\n",
            "__________________________________________________________________________________________________\n"
          ]
        }
      ],
      "source": [
        "model.summary()"
      ]
    },
    {
      "cell_type": "code",
      "execution_count": 79,
      "metadata": {
        "colab": {
          "base_uri": "https://localhost:8080/",
          "height": 672
        },
        "id": "WNZkTpz28RUa",
        "outputId": "1a55e17d-5c97-4196-9892-228389f89c58"
      },
      "outputs": [
        {
          "name": "stdout",
          "output_type": "stream",
          "text": [
            "Epoch 1/50\n",
            "631/631 [==============================] - 1s 932us/step - loss: 1.9641 - val_loss: 1.0764\n",
            "Epoch 2/50\n",
            "631/631 [==============================] - 0s 791us/step - loss: 1.1696 - val_loss: 0.9473\n",
            "Epoch 3/50\n",
            "631/631 [==============================] - 0s 786us/step - loss: 0.8597 - val_loss: 0.8743\n",
            "Epoch 4/50\n",
            "631/631 [==============================] - 0s 784us/step - loss: 0.6718 - val_loss: 0.8639\n",
            "Epoch 5/50\n",
            "631/631 [==============================] - 1s 795us/step - loss: 0.5856 - val_loss: 0.8628\n",
            "Epoch 6/50\n",
            "631/631 [==============================] - 1s 823us/step - loss: 0.5351 - val_loss: 0.8821\n",
            "Epoch 7/50\n",
            "631/631 [==============================] - 1s 792us/step - loss: 0.5043 - val_loss: 0.8855\n",
            "Epoch 8/50\n",
            "631/631 [==============================] - 1s 793us/step - loss: 0.4803 - val_loss: 0.9106\n",
            "Epoch 9/50\n",
            "631/631 [==============================] - 1s 833us/step - loss: 0.4613 - val_loss: 0.9199\n",
            "Epoch 10/50\n",
            "631/631 [==============================] - 0s 791us/step - loss: 0.4398 - val_loss: 0.9271\n",
            "Epoch 11/50\n",
            "631/631 [==============================] - 0s 788us/step - loss: 0.4284 - val_loss: 0.9376\n",
            "Epoch 12/50\n",
            "631/631 [==============================] - 0s 773us/step - loss: 0.4161 - val_loss: 0.9579\n",
            "Epoch 13/50\n",
            "631/631 [==============================] - 0s 783us/step - loss: 0.4042 - val_loss: 0.9654\n",
            "Epoch 14/50\n",
            "631/631 [==============================] - 0s 791us/step - loss: 0.3947 - val_loss: 0.9530\n",
            "Epoch 15/50\n",
            "631/631 [==============================] - 1s 793us/step - loss: 0.3851 - val_loss: 0.9781\n",
            "Epoch 16/50\n",
            "631/631 [==============================] - 1s 792us/step - loss: 0.3759 - val_loss: 0.9709\n",
            "Epoch 17/50\n",
            "631/631 [==============================] - 0s 785us/step - loss: 0.3726 - val_loss: 0.9700\n",
            "Epoch 18/50\n",
            "631/631 [==============================] - 0s 782us/step - loss: 0.3661 - val_loss: 0.9901\n",
            "Epoch 19/50\n",
            "631/631 [==============================] - 1s 796us/step - loss: 0.3614 - val_loss: 0.9915\n",
            "Epoch 20/50\n",
            "631/631 [==============================] - 0s 786us/step - loss: 0.3614 - val_loss: 1.0003\n",
            "Epoch 21/50\n",
            "631/631 [==============================] - 0s 791us/step - loss: 0.3568 - val_loss: 1.0174\n",
            "Epoch 22/50\n",
            "631/631 [==============================] - 0s 779us/step - loss: 0.3534 - val_loss: 1.0022\n",
            "Epoch 23/50\n",
            "631/631 [==============================] - 0s 776us/step - loss: 0.3526 - val_loss: 1.0488\n",
            "Epoch 24/50\n",
            "631/631 [==============================] - 0s 782us/step - loss: 0.3476 - val_loss: 1.0542\n",
            "Epoch 25/50\n",
            "631/631 [==============================] - 0s 785us/step - loss: 0.3484 - val_loss: 1.0372\n",
            "Epoch 26/50\n",
            "631/631 [==============================] - 0s 786us/step - loss: 0.3459 - val_loss: 1.0233\n",
            "Epoch 27/50\n",
            "631/631 [==============================] - 1s 793us/step - loss: 0.3436 - val_loss: 1.0277\n",
            "Epoch 28/50\n",
            "631/631 [==============================] - 0s 784us/step - loss: 0.3421 - val_loss: 1.0075\n",
            "Epoch 29/50\n",
            "631/631 [==============================] - 0s 782us/step - loss: 0.3409 - val_loss: 1.0458\n",
            "Epoch 30/50\n",
            "631/631 [==============================] - 0s 779us/step - loss: 0.3381 - val_loss: 1.0539\n",
            "Epoch 31/50\n",
            "631/631 [==============================] - 0s 779us/step - loss: 0.3397 - val_loss: 1.0457\n",
            "Epoch 32/50\n",
            "631/631 [==============================] - 0s 782us/step - loss: 0.3367 - val_loss: 1.0709\n",
            "Epoch 33/50\n",
            "631/631 [==============================] - 0s 776us/step - loss: 0.3338 - val_loss: 1.0764\n",
            "Epoch 34/50\n",
            "631/631 [==============================] - 0s 781us/step - loss: 0.3348 - val_loss: 1.0494\n",
            "Epoch 35/50\n",
            "631/631 [==============================] - 0s 782us/step - loss: 0.3318 - val_loss: 1.0944\n",
            "Epoch 36/50\n",
            "631/631 [==============================] - 1s 813us/step - loss: 0.3302 - val_loss: 1.0521\n",
            "Epoch 37/50\n",
            "631/631 [==============================] - 0s 784us/step - loss: 0.3304 - val_loss: 1.0628\n",
            "Epoch 38/50\n",
            "631/631 [==============================] - 1s 792us/step - loss: 0.3292 - val_loss: 1.0914\n",
            "Epoch 39/50\n",
            "631/631 [==============================] - 0s 788us/step - loss: 0.3279 - val_loss: 1.0859\n",
            "Epoch 40/50\n",
            "631/631 [==============================] - 0s 779us/step - loss: 0.3276 - val_loss: 1.1024\n",
            "Epoch 41/50\n",
            "631/631 [==============================] - 0s 785us/step - loss: 0.3255 - val_loss: 1.0713\n",
            "Epoch 42/50\n",
            "631/631 [==============================] - 0s 787us/step - loss: 0.3250 - val_loss: 1.0986\n",
            "Epoch 43/50\n",
            "631/631 [==============================] - 0s 788us/step - loss: 0.3241 - val_loss: 1.0947\n",
            "Epoch 44/50\n",
            "631/631 [==============================] - 0s 789us/step - loss: 0.3239 - val_loss: 1.0715\n",
            "Epoch 45/50\n",
            "631/631 [==============================] - 0s 788us/step - loss: 0.3230 - val_loss: 1.0610\n",
            "Epoch 46/50\n",
            "631/631 [==============================] - 0s 779us/step - loss: 0.3225 - val_loss: 1.1235\n",
            "Epoch 47/50\n",
            "631/631 [==============================] - 0s 791us/step - loss: 0.3202 - val_loss: 1.0926\n",
            "Epoch 48/50\n",
            "631/631 [==============================] - 0s 779us/step - loss: 0.3205 - val_loss: 1.0958\n",
            "Epoch 49/50\n",
            "631/631 [==============================] - 0s 781us/step - loss: 0.3196 - val_loss: 1.0828\n",
            "Epoch 50/50\n",
            "631/631 [==============================] - 0s 780us/step - loss: 0.3187 - val_loss: 1.1138\n"
          ]
        }
      ],
      "source": [
        "from sklearn.metrics import mean_absolute_error\n",
        "history = model.fit(\n",
        "    x=[train.user_id, train.movie_id], \n",
        "    y=train.rating, \n",
        "    epochs=50, \n",
        "    batch_size=128,\n",
        "    shuffle=True, \n",
        "    validation_data=([validate.user_id, validate.movie_id], validate.rating)\n",
        ")"
      ]
    },
    {
      "cell_type": "code",
      "execution_count": 142,
      "metadata": {
        "id": "8WW3l_KIHWv3"
      },
      "outputs": [
        {
          "data": {
            "text/plain": [
              "<AxesSubplot: >"
            ]
          },
          "execution_count": 142,
          "metadata": {},
          "output_type": "execute_result"
        },
        {
          "data": {
            "text/plain": [
              "<AxesSubplot: >"
            ]
          },
          "execution_count": 142,
          "metadata": {},
          "output_type": "execute_result"
        },
        {
          "data": {
            "text/plain": [
              "Text(0.5, 0, 'Epoch')"
            ]
          },
          "execution_count": 142,
          "metadata": {},
          "output_type": "execute_result"
        },
        {
          "data": {
            "text/plain": [
              "Text(0, 0.5, 'Error')"
            ]
          },
          "execution_count": 142,
          "metadata": {},
          "output_type": "execute_result"
        },
        {
          "data": {
            "text/plain": [
              "<matplotlib.legend.Legend at 0x2cbf0b370>"
            ]
          },
          "execution_count": 142,
          "metadata": {},
          "output_type": "execute_result"
        },
        {
          "data": {
            "image/png": "[encoded data removed]",
            "text/plain": [
              "<Figure size 640x480 with 1 Axes>"
            ]
          },
          "metadata": {},
          "output_type": "display_data"
        },
        {
          "name": "stdout",
          "output_type": "stream",
          "text": [
            "316/316 [==============================] - 0s 323us/step\n"
          ]
        },
        {
          "data": {
            "text/plain": [
              "0.8056832621349129"
            ]
          },
          "execution_count": 142,
          "metadata": {},
          "output_type": "execute_result"
        }
      ],
      "source": [
        "pd.Series(history.history['loss']).plot(label=\"Training Set\")\n",
        "pd.Series(history.history['val_loss']).plot(label=\"Validation Set\")\n",
        "plt.xlabel(\"Epoch\")\n",
        "plt.ylabel(\"Error\")\n",
        "plt.legend()\n",
        "plt.show()\n",
        "\n",
        "y_hat = np.round(model.predict([test.user_id, test.movie_id]), decimals=2)\n",
        "y_true = test.rating\n",
        "mean_absolute_error(y_true, y_hat)"
      ]
    },
    {
      "cell_type": "code",
      "execution_count": 149,
      "metadata": {},
      "outputs": [
        {
          "data": {
            "text/plain": [
              "('mae', 0.8056832621349129)"
            ]
          },
          "execution_count": 149,
          "metadata": {},
          "output_type": "execute_result"
        },
        {
          "data": {
            "text/plain": [
              "('rmse', 1.0718302784903309)"
            ]
          },
          "execution_count": 149,
          "metadata": {},
          "output_type": "execute_result"
        }
      ],
      "source": [
        "import evaluation\n",
        "\"mae\", evaluation.mean_absolute_error(y_true, y_hat)\n",
        "\"rmse\", evaluation.root_mean_squared_error(y_true, y_hat)"
      ]
    },
    {
      "cell_type": "code",
      "execution_count": 291,
      "metadata": {},
      "outputs": [],
      "source": [
        "movies = pd.read_csv(\"./data/movies.csv\")\n",
        "\n",
        "def getUserTopMovies(user_id: int) -> pd.DataFrame:\n",
        "    movie_ids = test.movie_id.unique()\n",
        "    predictions = model.predict([np.array([user_id] * len(movie_ids)), movie_ids])\n",
        "    combined = pd.DataFrame({'movie_id': movie_ids, 'predicted_rating': [_[0] for _ in predictions]})\n",
        "    #sort ratings descending\n",
        "    combined = combined.sort_values(by=\"predicted_rating\", ascending=False)\n",
        "    #append movie titles to DataFrame\n",
        "    combined = combined.set_index('movie_id').join(movies.set_index('movieId')).drop(columns = [\"genres\"])\n",
        "    #drop null entries\n",
        "    combined = combined.dropna()\n",
        "    #make movie_id a column\n",
        "    return combined.reset_index(level=0)\n"
      ]
    },
    {
      "cell_type": "code",
      "execution_count": 306,
      "metadata": {},
      "outputs": [
        {
          "name": "stdout",
          "output_type": "stream",
          "text": [
            "116/116 [==============================] - 0s 318us/step\n"
          ]
        },
        {
          "data": {
            "text/html": [
              "<div>\n",
              "<style scoped>\n",
              "    .dataframe tbody tr th:only-of-type {\n",
              "        vertical-align: middle;\n",
              "    }\n",
              "\n",
              "    .dataframe tbody tr th {\n",
              "        vertical-align: top;\n",
              "    }\n",
              "\n",
              "    .dataframe thead th {\n",
              "        text-align: right;\n",
              "    }\n",
              "</style>\n",
              "<table border=\"1\" class=\"dataframe\">\n",
              "  <thead>\n",
              "    <tr style=\"text-align: right;\">\n",
              "      <th></th>\n",
              "      <th>movie_id</th>\n",
              "      <th>predicted_rating</th>\n",
              "      <th>title</th>\n",
              "    </tr>\n",
              "  </thead>\n",
              "  <tbody>\n",
              "    <tr>\n",
              "      <th>268</th>\n",
              "      <td>1956</td>\n",
              "      <td>4.146917</td>\n",
              "      <td>Ordinary People (1980)</td>\n",
              "    </tr>\n",
              "  </tbody>\n",
              "</table>\n",
              "</div>"
            ],
            "text/plain": [
              "     movie_id  predicted_rating                   title\n",
              "268      1956          4.146917  Ordinary People (1980)"
            ]
          },
          "execution_count": 306,
          "metadata": {},
          "output_type": "execute_result"
        },
        {
          "data": {
            "text/html": [
              "<div>\n",
              "<style scoped>\n",
              "    .dataframe tbody tr th:only-of-type {\n",
              "        vertical-align: middle;\n",
              "    }\n",
              "\n",
              "    .dataframe tbody tr th {\n",
              "        vertical-align: top;\n",
              "    }\n",
              "\n",
              "    .dataframe thead th {\n",
              "        text-align: right;\n",
              "    }\n",
              "</style>\n",
              "<table border=\"1\" class=\"dataframe\">\n",
              "  <thead>\n",
              "    <tr style=\"text-align: right;\">\n",
              "      <th></th>\n",
              "      <th>user_id</th>\n",
              "      <th>movie_id</th>\n",
              "      <th>rating</th>\n",
              "      <th>timestamp</th>\n",
              "    </tr>\n",
              "  </thead>\n",
              "  <tbody>\n",
              "    <tr>\n",
              "      <th>17731</th>\n",
              "      <td>111</td>\n",
              "      <td>1956</td>\n",
              "      <td>4.5</td>\n",
              "      <td>1516152160</td>\n",
              "    </tr>\n",
              "  </tbody>\n",
              "</table>\n",
              "</div>"
            ],
            "text/plain": [
              "       user_id  movie_id  rating   timestamp\n",
              "17731      111      1956     4.5  1516152160"
            ]
          },
          "execution_count": 306,
          "metadata": {},
          "output_type": "execute_result"
        }
      ],
      "source": [
        "topMovies = getUserTopMovies(111)\n",
        "topMovies.loc[topMovies.movie_id == 1956]\n",
        "test.loc[(test.movie_id == 1956) & (test.user_id == 111)]"
      ]
    },
    {
      "cell_type": "code",
      "execution_count": 307,
      "metadata": {},
      "outputs": [
        {
          "name": "stdout",
          "output_type": "stream",
          "text": [
            "116/116 [==============================] - 0s 576us/step\n"
          ]
        },
        {
          "data": {
            "text/html": [
              "<div>\n",
              "<style scoped>\n",
              "    .dataframe tbody tr th:only-of-type {\n",
              "        vertical-align: middle;\n",
              "    }\n",
              "\n",
              "    .dataframe tbody tr th {\n",
              "        vertical-align: top;\n",
              "    }\n",
              "\n",
              "    .dataframe thead th {\n",
              "        text-align: right;\n",
              "    }\n",
              "</style>\n",
              "<table border=\"1\" class=\"dataframe\">\n",
              "  <thead>\n",
              "    <tr style=\"text-align: right;\">\n",
              "      <th></th>\n",
              "      <th>movie_id</th>\n",
              "      <th>predicted_rating</th>\n",
              "      <th>title</th>\n",
              "    </tr>\n",
              "  </thead>\n",
              "  <tbody>\n",
              "    <tr>\n",
              "      <th>1742</th>\n",
              "      <td>1956</td>\n",
              "      <td>3.018424</td>\n",
              "      <td>Ordinary People (1980)</td>\n",
              "    </tr>\n",
              "  </tbody>\n",
              "</table>\n",
              "</div>"
            ],
            "text/plain": [
              "      movie_id  predicted_rating                   title\n",
              "1742      1956          3.018424  Ordinary People (1980)"
            ]
          },
          "execution_count": 307,
          "metadata": {},
          "output_type": "execute_result"
        },
        {
          "data": {
            "text/html": [
              "<div>\n",
              "<style scoped>\n",
              "    .dataframe tbody tr th:only-of-type {\n",
              "        vertical-align: middle;\n",
              "    }\n",
              "\n",
              "    .dataframe tbody tr th {\n",
              "        vertical-align: top;\n",
              "    }\n",
              "\n",
              "    .dataframe thead th {\n",
              "        text-align: right;\n",
              "    }\n",
              "</style>\n",
              "<table border=\"1\" class=\"dataframe\">\n",
              "  <thead>\n",
              "    <tr style=\"text-align: right;\">\n",
              "      <th></th>\n",
              "      <th>user_id</th>\n",
              "      <th>movie_id</th>\n",
              "      <th>rating</th>\n",
              "      <th>timestamp</th>\n",
              "    </tr>\n",
              "  </thead>\n",
              "  <tbody>\n",
              "    <tr>\n",
              "      <th>87646</th>\n",
              "      <td>564</td>\n",
              "      <td>1956</td>\n",
              "      <td>4.0</td>\n",
              "      <td>1478451528</td>\n",
              "    </tr>\n",
              "  </tbody>\n",
              "</table>\n",
              "</div>"
            ],
            "text/plain": [
              "       user_id  movie_id  rating   timestamp\n",
              "87646      564      1956     4.0  1478451528"
            ]
          },
          "execution_count": 307,
          "metadata": {},
          "output_type": "execute_result"
        }
      ],
      "source": [
        "topMovies = getUserTopMovies(564)\n",
        "topMovies.loc[topMovies.movie_id == 1956]\n",
        "validate.loc[(validate.movie_id == 1956) & (validate.user_id == 564)]"
      ]
    },
    {
      "cell_type": "code",
      "execution_count": 308,
      "metadata": {},
      "outputs": [
        {
          "name": "stdout",
          "output_type": "stream",
          "text": [
            "116/116 [==============================] - 0s 311us/step\n"
          ]
        },
        {
          "data": {
            "text/html": [
              "<div>\n",
              "<style scoped>\n",
              "    .dataframe tbody tr th:only-of-type {\n",
              "        vertical-align: middle;\n",
              "    }\n",
              "\n",
              "    .dataframe tbody tr th {\n",
              "        vertical-align: top;\n",
              "    }\n",
              "\n",
              "    .dataframe thead th {\n",
              "        text-align: right;\n",
              "    }\n",
              "</style>\n",
              "<table border=\"1\" class=\"dataframe\">\n",
              "  <thead>\n",
              "    <tr style=\"text-align: right;\">\n",
              "      <th></th>\n",
              "      <th>movie_id</th>\n",
              "      <th>predicted_rating</th>\n",
              "      <th>title</th>\n",
              "    </tr>\n",
              "  </thead>\n",
              "  <tbody>\n",
              "    <tr>\n",
              "      <th>462</th>\n",
              "      <td>1956</td>\n",
              "      <td>3.835445</td>\n",
              "      <td>Ordinary People (1980)</td>\n",
              "    </tr>\n",
              "  </tbody>\n",
              "</table>\n",
              "</div>"
            ],
            "text/plain": [
              "     movie_id  predicted_rating                   title\n",
              "462      1956          3.835445  Ordinary People (1980)"
            ]
          },
          "execution_count": 308,
          "metadata": {},
          "output_type": "execute_result"
        },
        {
          "data": {
            "text/html": [
              "<div>\n",
              "<style scoped>\n",
              "    .dataframe tbody tr th:only-of-type {\n",
              "        vertical-align: middle;\n",
              "    }\n",
              "\n",
              "    .dataframe tbody tr th {\n",
              "        vertical-align: top;\n",
              "    }\n",
              "\n",
              "    .dataframe thead th {\n",
              "        text-align: right;\n",
              "    }\n",
              "</style>\n",
              "<table border=\"1\" class=\"dataframe\">\n",
              "  <thead>\n",
              "    <tr style=\"text-align: right;\">\n",
              "      <th></th>\n",
              "      <th>user_id</th>\n",
              "      <th>movie_id</th>\n",
              "      <th>rating</th>\n",
              "      <th>timestamp</th>\n",
              "    </tr>\n",
              "  </thead>\n",
              "  <tbody>\n",
              "    <tr>\n",
              "      <th>3546</th>\n",
              "      <td>21</td>\n",
              "      <td>1956</td>\n",
              "      <td>4.0</td>\n",
              "      <td>1376823593</td>\n",
              "    </tr>\n",
              "  </tbody>\n",
              "</table>\n",
              "</div>"
            ],
            "text/plain": [
              "      user_id  movie_id  rating   timestamp\n",
              "3546       21      1956     4.0  1376823593"
            ]
          },
          "execution_count": 308,
          "metadata": {},
          "output_type": "execute_result"
        }
      ],
      "source": [
        "topMovies = getUserTopMovies(21)\n",
        "topMovies.loc[topMovies.movie_id == 1956]\n",
        "train.loc[(train.movie_id == 1956) & (train.user_id == 21)]"
      ]
    }
  ],
  "metadata": {
    "colab": {
      "collapsed_sections": [],
      "provenance": []
    },
    "kernelspec": {
      "display_name": "Python 3.9.15 64-bit",
      "language": "python",
      "name": "python3"
    },
    "language_info": {
      "codemirror_mode": {
        "name": "ipython",
        "version": 3
      },
      "file_extension": ".py",
      "mimetype": "text/x-python",
      "name": "python",
      "nbconvert_exporter": "python",
      "pygments_lexer": "ipython3",
      "version": "3.9.15"
    },
    "vscode": {
      "interpreter": {
        "hash": "a665b5d41d17b532ea9890333293a1b812fa0b73c9c25c950b3cedf1bebd0438"
      }
    }
  },
  "nbformat": 4,
  "nbformat_minor": 0
}
