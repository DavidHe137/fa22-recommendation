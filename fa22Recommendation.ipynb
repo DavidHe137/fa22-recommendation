{
 "cells": [
  {
   "cell_type": "code",
   "execution_count": 49,
   "metadata": {
    "id": "b845Moxv2xZx"
   },
   "outputs": [],
   "source": [
    "# Import key libraries\n",
    "import matplotlib.pyplot as plt\n",
    "import numpy as np\n",
    "import pandas as pd\n",
    "import tensorflow as tf\n",
    "from tensorflow import keras"
   ]
  },
  {
   "cell_type": "code",
   "execution_count": 19,
   "metadata": {},
   "outputs": [
    {
     "name": "stderr",
     "output_type": "stream",
     "text": [
      "/var/folders/4y/9tccbndj1cx4tcmt9v8qcryh0000gn/T/ipykernel_64330/138020130.py:3: FutureWarning: DataFrame.set_axis 'inplace' keyword is deprecated and will be removed in a future version. Use `obj = obj.set_axis(..., copy=False)` instead\n",
      "  df.set_axis(['user_id', 'movie_id', 'rating', 'timestamp'], axis=1, inplace=True)\n"
     ]
    }
   ],
   "source": [
    "# Collect data processed in New_Data_Preprocessing.ipynb\n",
    "df = pd.read_pickle(\"data/ratings.pkl\")\n",
    "df.set_axis(['user_id', 'movie_id', 'rating', 'timestamp'], axis=1, inplace=True)"
   ]
  },
  {
   "cell_type": "code",
   "execution_count": 25,
   "metadata": {},
   "outputs": [
    {
     "data": {
      "text/html": [
       "<div>\n",
       "<style scoped>\n",
       "    .dataframe tbody tr th:only-of-type {\n",
       "        vertical-align: middle;\n",
       "    }\n",
       "\n",
       "    .dataframe tbody tr th {\n",
       "        vertical-align: top;\n",
       "    }\n",
       "\n",
       "    .dataframe thead th {\n",
       "        text-align: right;\n",
       "    }\n",
       "</style>\n",
       "<table border=\"1\" class=\"dataframe\">\n",
       "  <thead>\n",
       "    <tr style=\"text-align: right;\">\n",
       "      <th></th>\n",
       "      <th>user_id</th>\n",
       "      <th>movie_id</th>\n",
       "      <th>rating</th>\n",
       "      <th>timestamp</th>\n",
       "    </tr>\n",
       "  </thead>\n",
       "  <tbody>\n",
       "    <tr>\n",
       "      <th>0</th>\n",
       "      <td>1</td>\n",
       "      <td>1</td>\n",
       "      <td>4.0</td>\n",
       "      <td>964982703</td>\n",
       "    </tr>\n",
       "    <tr>\n",
       "      <th>1</th>\n",
       "      <td>1</td>\n",
       "      <td>3</td>\n",
       "      <td>4.0</td>\n",
       "      <td>964981247</td>\n",
       "    </tr>\n",
       "    <tr>\n",
       "      <th>2</th>\n",
       "      <td>1</td>\n",
       "      <td>6</td>\n",
       "      <td>4.0</td>\n",
       "      <td>964982224</td>\n",
       "    </tr>\n",
       "    <tr>\n",
       "      <th>3</th>\n",
       "      <td>1</td>\n",
       "      <td>47</td>\n",
       "      <td>5.0</td>\n",
       "      <td>964983815</td>\n",
       "    </tr>\n",
       "    <tr>\n",
       "      <th>4</th>\n",
       "      <td>1</td>\n",
       "      <td>50</td>\n",
       "      <td>5.0</td>\n",
       "      <td>964982931</td>\n",
       "    </tr>\n",
       "    <tr>\n",
       "      <th>5</th>\n",
       "      <td>1</td>\n",
       "      <td>70</td>\n",
       "      <td>3.0</td>\n",
       "      <td>964982400</td>\n",
       "    </tr>\n",
       "    <tr>\n",
       "      <th>6</th>\n",
       "      <td>1</td>\n",
       "      <td>101</td>\n",
       "      <td>5.0</td>\n",
       "      <td>964980868</td>\n",
       "    </tr>\n",
       "    <tr>\n",
       "      <th>7</th>\n",
       "      <td>1</td>\n",
       "      <td>110</td>\n",
       "      <td>4.0</td>\n",
       "      <td>964982176</td>\n",
       "    </tr>\n",
       "    <tr>\n",
       "      <th>8</th>\n",
       "      <td>1</td>\n",
       "      <td>151</td>\n",
       "      <td>5.0</td>\n",
       "      <td>964984041</td>\n",
       "    </tr>\n",
       "    <tr>\n",
       "      <th>9</th>\n",
       "      <td>1</td>\n",
       "      <td>157</td>\n",
       "      <td>5.0</td>\n",
       "      <td>964984100</td>\n",
       "    </tr>\n",
       "  </tbody>\n",
       "</table>\n",
       "</div>"
      ],
      "text/plain": [
       "   user_id  movie_id  rating  timestamp\n",
       "0        1         1     4.0  964982703\n",
       "1        1         3     4.0  964981247\n",
       "2        1         6     4.0  964982224\n",
       "3        1        47     5.0  964983815\n",
       "4        1        50     5.0  964982931\n",
       "5        1        70     3.0  964982400\n",
       "6        1       101     5.0  964980868\n",
       "7        1       110     4.0  964982176\n",
       "8        1       151     5.0  964984041\n",
       "9        1       157     5.0  964984100"
      ]
     },
     "execution_count": 25,
     "metadata": {},
     "output_type": "execute_result"
    }
   ],
   "source": [
    "df.head(10)"
   ]
  },
  {
   "cell_type": "code",
   "execution_count": 28,
   "metadata": {},
   "outputs": [],
   "source": [
    "# Reorders movie_id in order of rows, accounting for duplicates as well\n",
    "movie_id_to_new_id = dict()\n",
    "reordered_df = df\n",
    "id = 1\n",
    "for index, row in df.iterrows():\n",
    "    if movie_id_to_new_id.get(row['movie_id']) is None:\n",
    "        movie_id_to_new_id[row['movie_id']] = id\n",
    "        reordered_df.loc[index, 'movie_id'] = id\n",
    "        id += 1\n",
    "    else:\n",
    "        reordered_df.loc[index, 'movie_id'] = movie_id_to_new_id.get(row['movie_id'])"
   ]
  },
  {
   "cell_type": "code",
   "execution_count": 29,
   "metadata": {},
   "outputs": [
    {
     "data": {
      "text/html": [
       "<div>\n",
       "<style scoped>\n",
       "    .dataframe tbody tr th:only-of-type {\n",
       "        vertical-align: middle;\n",
       "    }\n",
       "\n",
       "    .dataframe tbody tr th {\n",
       "        vertical-align: top;\n",
       "    }\n",
       "\n",
       "    .dataframe thead th {\n",
       "        text-align: right;\n",
       "    }\n",
       "</style>\n",
       "<table border=\"1\" class=\"dataframe\">\n",
       "  <thead>\n",
       "    <tr style=\"text-align: right;\">\n",
       "      <th></th>\n",
       "      <th>user_id</th>\n",
       "      <th>movie_id</th>\n",
       "      <th>rating</th>\n",
       "      <th>timestamp</th>\n",
       "    </tr>\n",
       "  </thead>\n",
       "  <tbody>\n",
       "    <tr>\n",
       "      <th>0</th>\n",
       "      <td>1</td>\n",
       "      <td>1</td>\n",
       "      <td>4.0</td>\n",
       "      <td>964982703</td>\n",
       "    </tr>\n",
       "    <tr>\n",
       "      <th>1</th>\n",
       "      <td>1</td>\n",
       "      <td>2</td>\n",
       "      <td>4.0</td>\n",
       "      <td>964981247</td>\n",
       "    </tr>\n",
       "    <tr>\n",
       "      <th>2</th>\n",
       "      <td>1</td>\n",
       "      <td>3</td>\n",
       "      <td>4.0</td>\n",
       "      <td>964982224</td>\n",
       "    </tr>\n",
       "    <tr>\n",
       "      <th>3</th>\n",
       "      <td>1</td>\n",
       "      <td>4</td>\n",
       "      <td>5.0</td>\n",
       "      <td>964983815</td>\n",
       "    </tr>\n",
       "    <tr>\n",
       "      <th>4</th>\n",
       "      <td>1</td>\n",
       "      <td>5</td>\n",
       "      <td>5.0</td>\n",
       "      <td>964982931</td>\n",
       "    </tr>\n",
       "    <tr>\n",
       "      <th>...</th>\n",
       "      <td>...</td>\n",
       "      <td>...</td>\n",
       "      <td>...</td>\n",
       "      <td>...</td>\n",
       "    </tr>\n",
       "    <tr>\n",
       "      <th>100830</th>\n",
       "      <td>610</td>\n",
       "      <td>969</td>\n",
       "      <td>4.0</td>\n",
       "      <td>1493879365</td>\n",
       "    </tr>\n",
       "    <tr>\n",
       "      <th>100831</th>\n",
       "      <td>610</td>\n",
       "      <td>2389</td>\n",
       "      <td>4.0</td>\n",
       "      <td>1493848402</td>\n",
       "    </tr>\n",
       "    <tr>\n",
       "      <th>100832</th>\n",
       "      <td>610</td>\n",
       "      <td>1699</td>\n",
       "      <td>5.0</td>\n",
       "      <td>1493850091</td>\n",
       "    </tr>\n",
       "    <tr>\n",
       "      <th>100833</th>\n",
       "      <td>610</td>\n",
       "      <td>2390</td>\n",
       "      <td>5.0</td>\n",
       "      <td>1494273047</td>\n",
       "    </tr>\n",
       "    <tr>\n",
       "      <th>100834</th>\n",
       "      <td>610</td>\n",
       "      <td>1220</td>\n",
       "      <td>5.0</td>\n",
       "      <td>1493846352</td>\n",
       "    </tr>\n",
       "  </tbody>\n",
       "</table>\n",
       "<p>88364 rows × 4 columns</p>\n",
       "</div>"
      ],
      "text/plain": [
       "        user_id  movie_id  rating   timestamp\n",
       "0             1         1     4.0   964982703\n",
       "1             1         2     4.0   964981247\n",
       "2             1         3     4.0   964982224\n",
       "3             1         4     5.0   964983815\n",
       "4             1         5     5.0   964982931\n",
       "...         ...       ...     ...         ...\n",
       "100830      610       969     4.0  1493879365\n",
       "100831      610      2389     4.0  1493848402\n",
       "100832      610      1699     5.0  1493850091\n",
       "100833      610      2390     5.0  1494273047\n",
       "100834      610      1220     5.0  1493846352\n",
       "\n",
       "[88364 rows x 4 columns]"
      ]
     },
     "execution_count": 29,
     "metadata": {},
     "output_type": "execute_result"
    }
   ],
   "source": [
    "reordered_df"
   ]
  },
  {
   "cell_type": "code",
   "execution_count": 30,
   "metadata": {},
   "outputs": [],
   "source": [
    "# Creates train, validation, and testing split\n",
    "num_users = len(df.user_id.unique())\n",
    "num_movies = len(df.movie_id.unique())\n",
    "train, validate, test = np.split(df.sample(frac=1), [int(.8*len(df)), int(.9*len(df))])"
   ]
  },
  {
   "cell_type": "code",
   "execution_count": 31,
   "metadata": {
    "colab": {
     "base_uri": "https://localhost:8080/"
    },
    "id": "fFZGvpC1Diy1",
    "outputId": "79461f10-471d-4871-fbe6-9e462ab0bbaa"
   },
   "outputs": [
    {
     "name": "stdout",
     "output_type": "stream",
     "text": [
      "70691\n",
      "8836\n",
      "8837\n"
     ]
    }
   ],
   "source": [
    "print(len(train)) # 80%\n",
    "print(len(validate)) # 10%\n",
    "print(len(test)) # 10%"
   ]
  },
  {
   "cell_type": "code",
   "execution_count": 34,
   "metadata": {},
   "outputs": [
    {
     "data": {
      "text/html": [
       "<div>\n",
       "<style scoped>\n",
       "    .dataframe tbody tr th:only-of-type {\n",
       "        vertical-align: middle;\n",
       "    }\n",
       "\n",
       "    .dataframe tbody tr th {\n",
       "        vertical-align: top;\n",
       "    }\n",
       "\n",
       "    .dataframe thead th {\n",
       "        text-align: right;\n",
       "    }\n",
       "</style>\n",
       "<table border=\"1\" class=\"dataframe\">\n",
       "  <thead>\n",
       "    <tr style=\"text-align: right;\">\n",
       "      <th></th>\n",
       "      <th>user_id</th>\n",
       "      <th>movie_id</th>\n",
       "      <th>rating</th>\n",
       "      <th>timestamp</th>\n",
       "    </tr>\n",
       "  </thead>\n",
       "  <tbody>\n",
       "    <tr>\n",
       "      <th>3863</th>\n",
       "      <td>23</td>\n",
       "      <td>1470</td>\n",
       "      <td>3.0</td>\n",
       "      <td>1107341807</td>\n",
       "    </tr>\n",
       "    <tr>\n",
       "      <th>2124</th>\n",
       "      <td>18</td>\n",
       "      <td>935</td>\n",
       "      <td>3.5</td>\n",
       "      <td>1455059693</td>\n",
       "    </tr>\n",
       "    <tr>\n",
       "      <th>31786</th>\n",
       "      <td>219</td>\n",
       "      <td>269</td>\n",
       "      <td>4.0</td>\n",
       "      <td>1194932359</td>\n",
       "    </tr>\n",
       "    <tr>\n",
       "      <th>2712</th>\n",
       "      <td>19</td>\n",
       "      <td>1369</td>\n",
       "      <td>2.0</td>\n",
       "      <td>965705219</td>\n",
       "    </tr>\n",
       "    <tr>\n",
       "      <th>91765</th>\n",
       "      <td>596</td>\n",
       "      <td>2748</td>\n",
       "      <td>3.0</td>\n",
       "      <td>1535721426</td>\n",
       "    </tr>\n",
       "    <tr>\n",
       "      <th>31835</th>\n",
       "      <td>219</td>\n",
       "      <td>1770</td>\n",
       "      <td>3.5</td>\n",
       "      <td>1195349138</td>\n",
       "    </tr>\n",
       "    <tr>\n",
       "      <th>2116</th>\n",
       "      <td>18</td>\n",
       "      <td>1145</td>\n",
       "      <td>4.0</td>\n",
       "      <td>1455749175</td>\n",
       "    </tr>\n",
       "    <tr>\n",
       "      <th>9615</th>\n",
       "      <td>64</td>\n",
       "      <td>1326</td>\n",
       "      <td>3.0</td>\n",
       "      <td>1161566464</td>\n",
       "    </tr>\n",
       "    <tr>\n",
       "      <th>51459</th>\n",
       "      <td>332</td>\n",
       "      <td>1370</td>\n",
       "      <td>3.5</td>\n",
       "      <td>1352672645</td>\n",
       "    </tr>\n",
       "    <tr>\n",
       "      <th>36951</th>\n",
       "      <td>249</td>\n",
       "      <td>1924</td>\n",
       "      <td>3.5</td>\n",
       "      <td>1346752652</td>\n",
       "    </tr>\n",
       "  </tbody>\n",
       "</table>\n",
       "</div>"
      ],
      "text/plain": [
       "       user_id  movie_id  rating   timestamp\n",
       "3863        23      1470     3.0  1107341807\n",
       "2124        18       935     3.5  1455059693\n",
       "31786      219       269     4.0  1194932359\n",
       "2712        19      1369     2.0   965705219\n",
       "91765      596      2748     3.0  1535721426\n",
       "31835      219      1770     3.5  1195349138\n",
       "2116        18      1145     4.0  1455749175\n",
       "9615        64      1326     3.0  1161566464\n",
       "51459      332      1370     3.5  1352672645\n",
       "36951      249      1924     3.5  1346752652"
      ]
     },
     "execution_count": 34,
     "metadata": {},
     "output_type": "execute_result"
    }
   ],
   "source": [
    "train.head(10)"
   ]
  },
  {
   "cell_type": "code",
   "execution_count": 32,
   "metadata": {
    "colab": {
     "base_uri": "https://localhost:8080/"
    },
    "id": "h8NSYIHw3Usd",
    "outputId": "5b2c0ff8-adb1-490a-d1cf-0234ae20a5cd"
   },
   "outputs": [
    {
     "name": "stdout",
     "output_type": "stream",
     "text": [
      "Number of users: 610\n",
      "Number of movies: 3268\n"
     ]
    }
   ],
   "source": [
    "print(\"Number of users:\", num_users)\n",
    "print(\"Number of movies:\", num_movies)"
   ]
  },
  {
   "cell_type": "code",
   "execution_count": 98,
   "metadata": {
    "id": "wPGldpgq4RX4"
   },
   "outputs": [],
   "source": [
    "from keras.models import Model\n",
    "from keras.layers import Embedding, Flatten, Input, Dot, Dropout, Dense\n",
    "from keras.optimizers import Adam\n",
    "\n",
    "# Implemented EarlyStopping Algorithm (finetune hyperparameters)\n",
    "callback = tf.keras.callbacks.EarlyStopping(monitor='val_loss', min_delta=5e-4, patience=3, verbose=1, restore_best_weights=True)\n",
    "\n",
    "# Look into determining optimal number of latent featuers\n",
    "latent_dim = 5\n",
    "\n",
    "movie_input = Input(shape=[1],name='movie-input')\n",
    "movie_embedding = Embedding(num_movies + 1, latent_dim, name='movie-embedding')(movie_input)\n",
    "movie_vec = Flatten(name='movie-flatten')(movie_embedding)\n",
    "\n",
    "user_input = Input(shape=[1],name='user-input')\n",
    "user_embedding = Embedding(num_users + 1, latent_dim, name='user-embedding')(user_input)\n",
    "user_vec = Flatten(name='user-flatten')(user_embedding)\n",
    "\n",
    "concat = Dot(axes=1, name='movie-user-concat')([movie_vec, user_vec])\n",
    "concat_dropout = Dropout(0.2)(concat)\n",
    "fc_1 = Dense(32, name='fc-1', activation='relu',  kernel_regularizer=\"l2\")(concat)\n",
    "fc_1_dropout = Dropout(0.2, name='fc-1-dropout')(fc_1)\n",
    "fc_2 = Dense(32, name='fc-2', activation='relu')(fc_1_dropout)\n",
    "fc_2_dropout = Dropout(0.2, name='fc-2-dropout')(fc_2)\n",
    "out = Dense(1, name='out', activation='relu')(fc_2_dropout)\n",
    "\n",
    "\n",
    "model = Model([user_input, movie_input], out)\n",
    "model.compile(optimizer=Adam(learning_rate=0.0002), loss='mean_squared_error')"
   ]
  },
  {
   "cell_type": "code",
   "execution_count": 99,
   "metadata": {
    "colab": {
     "base_uri": "https://localhost:8080/"
    },
    "id": "Z-bBj8P15G1o",
    "outputId": "81d2389b-e804-44d7-b57e-e594c6e2d951"
   },
   "outputs": [
    {
     "name": "stdout",
     "output_type": "stream",
     "text": [
      "Model: \"model_10\"\n",
      "__________________________________________________________________________________________________\n",
      " Layer (type)                   Output Shape         Param #     Connected to                     \n",
      "==================================================================================================\n",
      " movie-input (InputLayer)       [(None, 1)]          0           []                               \n",
      "                                                                                                  \n",
      " user-input (InputLayer)        [(None, 1)]          0           []                               \n",
      "                                                                                                  \n",
      " movie-embedding (Embedding)    (None, 1, 5)         16345       ['movie-input[0][0]']            \n",
      "                                                                                                  \n",
      " user-embedding (Embedding)     (None, 1, 5)         3055        ['user-input[0][0]']             \n",
      "                                                                                                  \n",
      " movie-flatten (Flatten)        (None, 5)            0           ['movie-embedding[0][0]']        \n",
      "                                                                                                  \n",
      " user-flatten (Flatten)         (None, 5)            0           ['user-embedding[0][0]']         \n",
      "                                                                                                  \n",
      " movie-user-concat (Dot)        (None, 1)            0           ['movie-flatten[0][0]',          \n",
      "                                                                  'user-flatten[0][0]']           \n",
      "                                                                                                  \n",
      " fc-1 (Dense)                   (None, 32)           64          ['movie-user-concat[0][0]']      \n",
      "                                                                                                  \n",
      " fc-1-dropout (Dropout)         (None, 32)           0           ['fc-1[0][0]']                   \n",
      "                                                                                                  \n",
      " fc-2 (Dense)                   (None, 32)           1056        ['fc-1-dropout[0][0]']           \n",
      "                                                                                                  \n",
      " fc-2-dropout (Dropout)         (None, 32)           0           ['fc-2[0][0]']                   \n",
      "                                                                                                  \n",
      " out (Dense)                    (None, 1)            33          ['fc-2-dropout[0][0]']           \n",
      "                                                                                                  \n",
      "==================================================================================================\n",
      "Total params: 20,553\n",
      "Trainable params: 20,553\n",
      "Non-trainable params: 0\n",
      "__________________________________________________________________________________________________\n"
     ]
    }
   ],
   "source": [
    "model.summary()"
   ]
  },
  {
   "cell_type": "code",
   "execution_count": 100,
   "metadata": {
    "colab": {
     "base_uri": "https://localhost:8080/",
     "height": 672
    },
    "id": "WNZkTpz28RUa",
    "outputId": "1a55e17d-5c97-4196-9892-228389f89c58",
    "scrolled": true
   },
   "outputs": [
    {
     "name": "stdout",
     "output_type": "stream",
     "text": [
      "Epoch 1/40\n",
      "2210/2210 [==============================] - 2s 697us/step - loss: 2.6626 - val_loss: 1.0577\n",
      "Epoch 2/40\n",
      "2210/2210 [==============================] - 1s 665us/step - loss: 1.2696 - val_loss: 1.0613\n",
      "Epoch 3/40\n",
      "2210/2210 [==============================] - 1s 678us/step - loss: 1.2253 - val_loss: 1.0526\n",
      "Epoch 4/40\n",
      "2210/2210 [==============================] - 1s 678us/step - loss: 1.1471 - val_loss: 0.9917\n",
      "Epoch 5/40\n",
      "2210/2210 [==============================] - 1s 636us/step - loss: 1.0105 - val_loss: 0.9098\n",
      "Epoch 6/40\n",
      "2210/2210 [==============================] - 1s 641us/step - loss: 0.8979 - val_loss: 0.8706\n",
      "Epoch 7/40\n",
      "2210/2210 [==============================] - 1s 628us/step - loss: 0.8418 - val_loss: 0.8391\n",
      "Epoch 8/40\n",
      "2210/2210 [==============================] - 1s 626us/step - loss: 0.7936 - val_loss: 0.8228\n",
      "Epoch 9/40\n",
      "2210/2210 [==============================] - 1s 626us/step - loss: 0.7600 - val_loss: 0.8105\n",
      "Epoch 10/40\n",
      "2210/2210 [==============================] - 1s 639us/step - loss: 0.7345 - val_loss: 0.8004\n",
      "Epoch 11/40\n",
      "2210/2210 [==============================] - 1s 635us/step - loss: 0.7127 - val_loss: 0.7956\n",
      "Epoch 12/40\n",
      "2210/2210 [==============================] - 1s 637us/step - loss: 0.6958 - val_loss: 0.8008\n",
      "Epoch 13/40\n",
      "2210/2210 [==============================] - 1s 663us/step - loss: 0.6780 - val_loss: 0.7886\n",
      "Epoch 14/40\n",
      "2210/2210 [==============================] - 1s 631us/step - loss: 0.6639 - val_loss: 0.7892\n",
      "Epoch 15/40\n",
      "2210/2210 [==============================] - 1s 652us/step - loss: 0.6554 - val_loss: 0.7891\n",
      "Epoch 16/40\n",
      "2210/2210 [==============================] - 1s 637us/step - loss: 0.6407 - val_loss: 0.7870\n",
      "Epoch 17/40\n",
      "2210/2210 [==============================] - 1s 641us/step - loss: 0.6311 - val_loss: 0.7881\n",
      "Epoch 18/40\n",
      "2210/2210 [==============================] - 1s 629us/step - loss: 0.6273 - val_loss: 0.7839\n",
      "Epoch 19/40\n",
      "2210/2210 [==============================] - 2s 688us/step - loss: 0.6145 - val_loss: 0.7878\n",
      "Epoch 20/40\n",
      "2210/2210 [==============================] - 2s 690us/step - loss: 0.6127 - val_loss: 0.7858\n",
      "Epoch 21/40\n",
      "2178/2210 [============================>.] - ETA: 0s - loss: 0.6038Restoring model weights from the end of the best epoch: 18.\n",
      "2210/2210 [==============================] - 1s 650us/step - loss: 0.6042 - val_loss: 0.7936\n",
      "Epoch 21: early stopping\n"
     ]
    }
   ],
   "source": [
    "from sklearn.metrics import mean_absolute_error\n",
    "history = model.fit(\n",
    "    x=[train.user_id, train.movie_id], \n",
    "    y=train.rating, \n",
    "    epochs=40, \n",
    "    batch_size=32,\n",
    "    callbacks=[callback],\n",
    "    validation_data=([validate.user_id, validate.movie_id], validate.rating)\n",
    ")"
   ]
  },
  {
   "cell_type": "code",
   "execution_count": 101,
   "metadata": {
    "id": "8WW3l_KIHWv3"
   },
   "outputs": [
    {
     "data": {
      "image/png": "[encoded data removed]",
      "text/plain": [
       "<Figure size 640x480 with 1 Axes>"
      ]
     },
     "metadata": {},
     "output_type": "display_data"
    },
    {
     "name": "stdout",
     "output_type": "stream",
     "text": [
      "277/277 [==============================] - 0s 431us/step\n"
     ]
    },
    {
     "data": {
      "text/plain": [
       "0.6809177314235544"
      ]
     },
     "execution_count": 101,
     "metadata": {},
     "output_type": "execute_result"
    }
   ],
   "source": [
    "pd.Series(history.history['loss']).plot(label=\"Training Set\")\n",
    "pd.Series(history.history['val_loss']).plot(label=\"Validation Set\")\n",
    "plt.xlabel(\"Epoch\")\n",
    "plt.ylabel(\"Error\")\n",
    "plt.legend()\n",
    "plt.show()\n",
    "\n",
    "y_hat = np.round(model.predict([test.user_id, test.movie_id]), decimals=2)\n",
    "y_true = test.rating\n",
    "mean_absolute_error(y_true, y_hat)"
   ]
  },
  {
   "cell_type": "code",
   "execution_count": 112,
   "metadata": {},
   "outputs": [
    {
     "data": {
      "text/plain": [
       "4.06"
      ]
     },
     "execution_count": 112,
     "metadata": {},
     "output_type": "execute_result"
    }
   ],
   "source": []
  },
  {
   "cell_type": "code",
   "execution_count": 102,
   "metadata": {},
   "outputs": [
    {
     "data": {
      "text/plain": [
       "('rmse', 0.8866792813769881)"
      ]
     },
     "execution_count": 102,
     "metadata": {},
     "output_type": "execute_result"
    }
   ],
   "source": [
    "import evaluation\n",
    "\"mae\", evaluation.mean_absolute_error(y_true, y_hat)\n",
    "\"rmse\", evaluation.root_mean_squared_error(y_true, y_hat)"
   ]
  },
  {
   "cell_type": "code",
   "execution_count": 130,
   "metadata": {},
   "outputs": [
    {
     "data": {
      "text/plain": [
       "['Predicted: 3.8299999237060547 vs Actual: 0.5:...........Difference = 3.3299999237060547',\n",
       " 'Predicted: 4.420000076293945 vs Actual: 0.5:...........Difference = 3.9200000762939453',\n",
       " 'Predicted: 4.300000190734863 vs Actual: 1.0:...........Difference = 3.3000001907348633',\n",
       " 'Predicted: 3.5899999141693115 vs Actual: 0.5:...........Difference = 3.0899999141693115',\n",
       " 'Predicted: 4.320000171661377 vs Actual: 1.0:...........Difference = 3.320000171661377',\n",
       " 'Predicted: 4.269999980926514 vs Actual: 0.5:...........Difference = 3.7699999809265137',\n",
       " 'Predicted: 3.799999952316284 vs Actual: 0.5:...........Difference = 3.299999952316284',\n",
       " 'Predicted: 3.880000114440918 vs Actual: 0.5:...........Difference = 3.380000114440918',\n",
       " 'Predicted: 3.880000114440918 vs Actual: 0.5:...........Difference = 3.380000114440918',\n",
       " 'Predicted: 4.730000019073486 vs Actual: 1.5:...........Difference = 3.2300000190734863',\n",
       " 'Predicted: 3.759999990463257 vs Actual: 0.5:...........Difference = 3.259999990463257',\n",
       " 'Predicted: 4.5 vs Actual: 1.0:...........Difference = 3.5',\n",
       " 'Predicted: 4.210000038146973 vs Actual: 1.0:...........Difference = 3.2100000381469727',\n",
       " 'Predicted: 3.7100000381469727 vs Actual: 0.5:...........Difference = 3.2100000381469727',\n",
       " 'Predicted: 4.889999866485596 vs Actual: 0.5:...........Difference = 4.389999866485596',\n",
       " 'Predicted: 3.640000104904175 vs Actual: 0.5:...........Difference = 3.140000104904175',\n",
       " 'Predicted: 4.010000228881836 vs Actual: 1.0:...........Difference = 3.010000228881836',\n",
       " 'Predicted: 4.199999809265137 vs Actual: 1.0:...........Difference = 3.1999998092651367',\n",
       " 'Predicted: 4.019999980926514 vs Actual: 1.0:...........Difference = 3.0199999809265137',\n",
       " 'Predicted: 4.309999942779541 vs Actual: 0.5:...........Difference = 3.809999942779541']"
      ]
     },
     "execution_count": 130,
     "metadata": {},
     "output_type": "execute_result"
    }
   ],
   "source": [
    "# ['Predicted: {} vs Actual: {}:...........Difference = {}'.format(round(elem[1][0], 2), elem[0], abs(elem[1][0] - elem[0])) for elem in zip(y_true.to_numpy(), y_hat) if abs(elem[1][0] - elem[0]) > 3][:20]"
   ]
  },
  {
   "cell_type": "code",
   "execution_count": 11,
   "metadata": {},
   "outputs": [],
   "source": [
    "movies = pd.read_csv(\"./data/movies.csv\")\n",
    "\n",
    "def getUserTopMovies(user_id: int) -> pd.DataFrame:\n",
    "    movie_ids = test.movie_id.unique()\n",
    "    predictions = model.predict([np.array([user_id] * len(movie_ids)), movie_ids])\n",
    "    combined = pd.DataFrame({'movie_id': movie_ids, 'predicted_rating': [_[0] for _ in predictions]})\n",
    "    #sort ratings descending\n",
    "    combined = combined.sort_values(by=\"predicted_rating\", ascending=False)\n",
    "    #append movie titles to DataFrame\n",
    "    combined = combined.set_index('movie_id').join(movies.set_index('movieId')).drop(columns = [\"genres\"])\n",
    "    #drop null entries\n",
    "    combined = combined.dropna()\n",
    "    #make movie_id a column\n",
    "    return combined.reset_index(level=0)\n"
   ]
  },
  {
   "cell_type": "code",
   "execution_count": 12,
   "metadata": {},
   "outputs": [
    {
     "name": "stdout",
     "output_type": "stream",
     "text": [
      "79/79 [==============================] - 0s 569us/step\n"
     ]
    },
    {
     "data": {
      "text/html": [
       "<div>\n",
       "<style scoped>\n",
       "    .dataframe tbody tr th:only-of-type {\n",
       "        vertical-align: middle;\n",
       "    }\n",
       "\n",
       "    .dataframe tbody tr th {\n",
       "        vertical-align: top;\n",
       "    }\n",
       "\n",
       "    .dataframe thead th {\n",
       "        text-align: right;\n",
       "    }\n",
       "</style>\n",
       "<table border=\"1\" class=\"dataframe\">\n",
       "  <thead>\n",
       "    <tr style=\"text-align: right;\">\n",
       "      <th></th>\n",
       "      <th>user_id</th>\n",
       "      <th>movie_id</th>\n",
       "      <th>rating</th>\n",
       "      <th>timestamp</th>\n",
       "    </tr>\n",
       "  </thead>\n",
       "  <tbody>\n",
       "  </tbody>\n",
       "</table>\n",
       "</div>"
      ],
      "text/plain": [
       "Empty DataFrame\n",
       "Columns: [user_id, movie_id, rating, timestamp]\n",
       "Index: []"
      ]
     },
     "execution_count": 12,
     "metadata": {},
     "output_type": "execute_result"
    }
   ],
   "source": [
    "topMovies = getUserTopMovies(111)\n",
    "topMovies.loc[topMovies.movie_id == 1956]\n",
    "test.loc[(test.movie_id == 1956) & (test.user_id == 111)]"
   ]
  },
  {
   "cell_type": "code",
   "execution_count": 13,
   "metadata": {},
   "outputs": [
    {
     "name": "stdout",
     "output_type": "stream",
     "text": [
      "79/79 [==============================] - 0s 557us/step\n"
     ]
    },
    {
     "data": {
      "text/html": [
       "<div>\n",
       "<style scoped>\n",
       "    .dataframe tbody tr th:only-of-type {\n",
       "        vertical-align: middle;\n",
       "    }\n",
       "\n",
       "    .dataframe tbody tr th {\n",
       "        vertical-align: top;\n",
       "    }\n",
       "\n",
       "    .dataframe thead th {\n",
       "        text-align: right;\n",
       "    }\n",
       "</style>\n",
       "<table border=\"1\" class=\"dataframe\">\n",
       "  <thead>\n",
       "    <tr style=\"text-align: right;\">\n",
       "      <th></th>\n",
       "      <th>user_id</th>\n",
       "      <th>movie_id</th>\n",
       "      <th>rating</th>\n",
       "      <th>timestamp</th>\n",
       "    </tr>\n",
       "  </thead>\n",
       "  <tbody>\n",
       "  </tbody>\n",
       "</table>\n",
       "</div>"
      ],
      "text/plain": [
       "Empty DataFrame\n",
       "Columns: [user_id, movie_id, rating, timestamp]\n",
       "Index: []"
      ]
     },
     "execution_count": 13,
     "metadata": {},
     "output_type": "execute_result"
    }
   ],
   "source": [
    "topMovies = getUserTopMovies(564)\n",
    "topMovies.loc[topMovies.movie_id == 1956]\n",
    "validate.loc[(validate.movie_id == 1956) & (validate.user_id == 564)]"
   ]
  },
  {
   "cell_type": "raw",
   "metadata": {},
   "source": [
    "topMovies = getUserTopMovies(21)\n",
    "topMovies.loc[topMovies.movie_id == 1956]\n",
    "train.loc[(train.movie_id == 1956) & (train.user_id == 21)]"
   ]
  }
 ],
 "metadata": {
  "colab": {
   "collapsed_sections": [],
   "provenance": []
  },
  "kernelspec": {
   "display_name": "Python 3.9.6 64-bit ('3.9.6')",
   "language": "python",
   "name": "python3"
  },
  "language_info": {
   "codemirror_mode": {
    "name": "ipython",
    "version": 3
   },
   "file_extension": ".py",
   "mimetype": "text/x-python",
   "name": "python",
   "nbconvert_exporter": "python",
   "pygments_lexer": "ipython3",
   "version": "3.9.6"
  },
  "vscode": {
   "interpreter": {
    "hash": "702a2eb3e2fb6c9e69ef60010220a17bf30870987b076fed16cfd7327bbfe518"
   }
  }
 },
 "nbformat": 4,
 "nbformat_minor": 1
}
